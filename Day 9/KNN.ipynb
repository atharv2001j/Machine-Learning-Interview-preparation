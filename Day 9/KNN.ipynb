{
 "cells": [
  {
   "cell_type": "markdown",
   "id": "52b00d3b",
   "metadata": {},
   "source": [
    "# <h1 style=\"text-align:center;\">Machine Learning</h1>\n"
   ]
  },
  {
   "cell_type": "markdown",
   "id": "2587f30c",
   "metadata": {},
   "source": [
    "<h2> K-Nearest Neighbor(KNN) Algorithm for Machine Learning: </h2>"
   ]
  },
  {
   "cell_type": "markdown",
   "id": "3306be29",
   "metadata": {},
   "source": [
    "\n",
    "1. **Supervised Learning**: K-NN is a supervised learning algorithm, meaning it requires labeled training data to learn the relationships between data points and their respective classes or values.\n",
    "\n",
    "\n",
    "2. **Similarity Measure**: K-NN determines the similarity between data points by using a distance metric, such as Euclidean distance or Manhattan distance. The choice of distance metric can have a significant impact on the algorithm's performance.\n",
    "\n",
    "\n",
    "3. **K Value**: K in K-NN represents the number of nearest neighbors used to make a prediction. It's a hyperparameter that needs to be specified before running the algorithm. A smaller K value makes the algorithm more sensitive to noise, while a larger K value makes it more robust but might oversmooth the decision boundaries.\n",
    "\n",
    "\n",
    "4. **Classification vs. Regression**: K-NN can be used for both classification and regression tasks. In classification, the algorithm assigns a data point to a class based on the majority class among its K-nearest neighbors. In regression, it calculates the average (or another statistic) of the target values of the K-nearest neighbors to predict a continuous value.\n",
    "\n",
    "\n",
    "5. **Non-Parametric Algorithm**: K-NN is considered non-parametric because it doesn't make assumptions about the underlying data distribution. Instead, it relies on the actual data points in the training set to make predictions.\n",
    "\n",
    "\n",
    "6. **Lazy Learner vs. Eager Learner**: You correctly described K-NN as a lazy learner because it stores the entire training dataset and makes predictions only when new data is presented. In contrast, eager learners, like decision trees and support vector machines, construct a model during the training phase.\n",
    "\n",
    "\n",
    "7. **Example**: Your example of classifying an image as a cat or dog using K-NN is valid. However, it's important to note that in practice, K-NN might not be the best algorithm for image classification tasks due to the high dimensionality of image data and the computational cost of calculating distances. Convolutional Neural Networks (CNNs) are more commonly used for image classification because they are specifically designed for this type of data.\n",
    "\n",
    "\n",
    "<img src=\"KNN.png\" alt=\"Working of Machine Learning\" width=\"500\">\n",
    "\n",
    "In summary, K-NN is a versatile and simple algorithm that can be effective for certain tasks, particularly when dealing with small to moderately-sized datasets. However, its performance can be influenced by the choice of K, the distance metric, and the nature of the data. It's essential to consider these factors when applying K-NN to real-world problems."
   ]
  },
  {
   "cell_type": "markdown",
   "id": "1f863f20",
   "metadata": {},
   "source": [
    "<h3> Why do we need a K-NN Algorithm?</h3>"
   ]
  },
  {
   "cell_type": "markdown",
   "id": "61ca217f",
   "metadata": {},
   "source": [
    "Suppose there are two categories, i.e., Category A and Category B, and we have a new data point x1, so this data point will lie in which of these categories. To solve this type of problem, we need a K-NN algorithm. With the help of K-NN, we can easily identify the category or class of a particular dataset. Consider the below diagram:"
   ]
  },
  {
   "cell_type": "markdown",
   "id": "3735df75",
   "metadata": {},
   "source": [
    "<img src='need.png'>"
   ]
  },
  {
   "cell_type": "markdown",
   "id": "77975c3b",
   "metadata": {},
   "source": [
    "<h3> How does K-NN work?</h3>"
   ]
  },
  {
   "cell_type": "markdown",
   "id": "cba1c883",
   "metadata": {},
   "source": [
    "The K-NN working can be explained on the basis of the below algorithm:\n",
    "\n",
    "Step-1: Select the number K of the neighbors\n",
    "\n",
    "Step-2: Calculate the Euclidean distance of K number of neighbors\n",
    "\n",
    "Step-3: Take the K nearest neighbors as per the calculated Euclidean distance.\n",
    "\n",
    "Step-4: Among these k neighbors, count the number of the data points in each category.\n",
    "\n",
    "Step-5: Assign the new data points to that category for which the number of the neighbor is maximum.\n",
    "\n",
    "Step-6: Our model is ready."
   ]
  },
  {
   "cell_type": "markdown",
   "id": "c15efc10",
   "metadata": {},
   "source": [
    "<h4> Example of KNN algorithms: </h4>"
   ]
  },
  {
   "cell_type": "markdown",
   "id": "cc382f63",
   "metadata": {},
   "source": [
    "Suppose we have a new data point and we need to put it in the required category. Consider the below image:\n",
    "\n"
   ]
  },
  {
   "cell_type": "markdown",
   "id": "efc00843",
   "metadata": {},
   "source": [
    "<img src='one.png' width=300>"
   ]
  },
  {
   "cell_type": "markdown",
   "id": "4daa413c",
   "metadata": {},
   "source": [
    "- Firstly, we will choose the number of neighbors, so we will choose the k=5.\n",
    "\n",
    "- Next, we will calculate the Euclidean distance between the data points. The Euclidean distance is the distance between two points, which we have already studied in geometry. It can be calculated as:"
   ]
  },
  {
   "cell_type": "markdown",
   "id": "334151f2",
   "metadata": {},
   "source": [
    "<img src='euc.png' width=400>"
   ]
  },
  {
   "cell_type": "markdown",
   "id": "3ea141a8",
   "metadata": {},
   "source": [
    "- By calculating the Euclidean distance we got the nearest neighbors, as three nearest neighbors in category A and two nearest neighbors in category B. Consider the below image:"
   ]
  },
  {
   "cell_type": "markdown",
   "id": "d18c974c",
   "metadata": {},
   "source": [
    "<img src='three.png' width=300>"
   ]
  },
  {
   "cell_type": "markdown",
   "id": "b5a6f0ee",
   "metadata": {},
   "source": [
    "- As we can see the 3 nearest neighbors are from category A, hence this new data point must belong to category A.\n"
   ]
  },
  {
   "cell_type": "markdown",
   "id": "97d1e039",
   "metadata": {},
   "source": [
    "<h3> How to select the value of K in the K-NN Algorithm?</h3>"
   ]
  },
  {
   "cell_type": "markdown",
   "id": "3c1e7381",
   "metadata": {},
   "source": [
    "Below are some points to remember while selecting the value of K in the K-NN algorithm:"
   ]
  },
  {
   "cell_type": "markdown",
   "id": "d0188024",
   "metadata": {},
   "source": [
    "- There is no particular way to determine the best value for \"K\", so we need to try some values to find the best out of them. The most preferred value for K is 5.\n",
    "\n",
    "\n",
    "- A very low value for K such as K=1 or K=2, can be noisy and lead to the effects of outliers in the model.\n",
    "\n",
    "\n",
    "- Large values for K are good, but it may find some difficulties."
   ]
  },
  {
   "cell_type": "markdown",
   "id": "f686c969",
   "metadata": {},
   "source": [
    "<h3> Advantages of KNN Algorithm:</h3>"
   ]
  },
  {
   "cell_type": "markdown",
   "id": "3c412a43",
   "metadata": {},
   "source": [
    "1. It is simple to implement.\n",
    "2. It is robust to the noisy training data\n",
    "3. It can be more effective if the training data is large."
   ]
  },
  {
   "cell_type": "markdown",
   "id": "f7f2b8dc",
   "metadata": {},
   "source": [
    "<h3> Disadvantages of KNN Algorithm:</h3>"
   ]
  },
  {
   "cell_type": "markdown",
   "id": "cfd1fcce",
   "metadata": {},
   "source": [
    "1. Always needs to determine the value of K which may be complex some time.\n",
    "2. The computation cost is high because of calculating the distance between the data points for all the training samples."
   ]
  },
  {
   "cell_type": "markdown",
   "id": "ef22a5fd",
   "metadata": {},
   "source": [
    "<h3> Python implementation of the KNN algorithm:</h3>"
   ]
  },
  {
   "cell_type": "markdown",
   "id": "7164c8ba",
   "metadata": {},
   "source": [
    "<h4>Problem for K-NN Algorithm:</h4>\n",
    "\n",
    "There is a Car manufacturer company that has manufactured a new SUV car. The company wants to give the ads to the users who are interested in buying that SUV. So for this problem, we have a dataset that contains multiple user's information through the social network. The dataset contains lots of information but the Estimated Salary and Age we will consider for the independent variable and the Purchased variable is for the dependent variable. Below is the dataset:"
   ]
  },
  {
   "cell_type": "markdown",
   "id": "94164b2e",
   "metadata": {},
   "source": [
    "<h4>Steps to implement the K-NN algorithm:</h4>\n",
    "\n",
    "1. Data Pre-processing step\n",
    "2. Fitting the K-NN algorithm to the Training set\n",
    "3. Predicting the test result\n",
    "4. Test accuracy of the result(Creation of Confusion matrix)\n",
    "5. Visualizing the test set result."
   ]
  },
  {
   "cell_type": "markdown",
   "id": "d601f408",
   "metadata": {},
   "source": [
    "<h4> Step 1: Data Pre-Processing</h4>"
   ]
  },
  {
   "cell_type": "code",
   "execution_count": 1,
   "id": "22e59003",
   "metadata": {},
   "outputs": [],
   "source": [
    "# importing libraries  \n",
    "import numpy as nm  \n",
    "import matplotlib.pyplot as plt  \n",
    "import pandas as pd  \n",
    "  \n",
    "#importing datasets  \n",
    "data_set= pd.read_csv('user_data.csv')  \n",
    "  \n",
    "#Extracting Independent and dependent Variable  \n",
    "x= data_set.iloc[:, [2,3]].values  \n",
    "y= data_set.iloc[:, 4].values  \n",
    "  \n",
    "# Splitting the dataset into training and test set.  \n",
    "from sklearn.model_selection import train_test_split  \n",
    "x_train, x_test, y_train, y_test= train_test_split(x, y, test_size= 0.25, random_state=0)  \n",
    "  \n",
    "#feature Scaling  \n",
    "from sklearn.preprocessing import StandardScaler    \n",
    "st_x= StandardScaler()    \n",
    "x_train= st_x.fit_transform(x_train)    \n",
    "x_test= st_x.transform(x_test)  "
   ]
  },
  {
   "cell_type": "code",
   "execution_count": 2,
   "id": "06ed6d37",
   "metadata": {},
   "outputs": [
    {
     "data": {
      "text/plain": [
       "array([[-0.80480212,  0.50496393],\n",
       "       [-0.01254409, -0.5677824 ],\n",
       "       [-0.30964085,  0.1570462 ],\n",
       "       [-0.80480212,  0.27301877],\n",
       "       [-0.30964085, -0.5677824 ],\n",
       "       [-1.10189888, -1.43757673],\n",
       "       [-0.70576986, -1.58254245],\n",
       "       [-0.21060859,  2.15757314],\n",
       "       [-1.99318916, -0.04590581],\n",
       "       [ 0.8787462 , -0.77073441],\n",
       "       [-0.80480212, -0.59677555],\n",
       "       [-1.00286662, -0.42281668],\n",
       "       [-0.11157634, -0.42281668],\n",
       "       [ 0.08648817,  0.21503249],\n",
       "       [-1.79512465,  0.47597078],\n",
       "       [-0.60673761,  1.37475825],\n",
       "       [-0.11157634,  0.21503249],\n",
       "       [-1.89415691,  0.44697764],\n",
       "       [ 1.67100423,  1.75166912],\n",
       "       [-0.30964085, -1.37959044],\n",
       "       [-0.30964085, -0.65476184],\n",
       "       [ 0.8787462 ,  2.15757314],\n",
       "       [ 0.28455268, -0.53878926],\n",
       "       [ 0.8787462 ,  1.02684052],\n",
       "       [-1.49802789, -1.20563157],\n",
       "       [ 1.07681071,  2.07059371],\n",
       "       [-1.00286662,  0.50496393],\n",
       "       [-0.90383437,  0.30201192],\n",
       "       [-0.11157634, -0.21986468],\n",
       "       [-0.60673761,  0.47597078],\n",
       "       [-1.6960924 ,  0.53395707],\n",
       "       [-0.11157634,  0.27301877],\n",
       "       [ 1.86906873, -0.27785096],\n",
       "       [-0.11157634, -0.48080297],\n",
       "       [-1.39899564, -0.33583725],\n",
       "       [-1.99318916, -0.50979612],\n",
       "       [-1.59706014,  0.33100506],\n",
       "       [-0.4086731 , -0.77073441],\n",
       "       [-0.70576986, -1.03167271],\n",
       "       [ 1.07681071, -0.97368642],\n",
       "       [-1.10189888,  0.53395707],\n",
       "       [ 0.28455268, -0.50979612],\n",
       "       [-1.10189888,  0.41798449],\n",
       "       [-0.30964085, -1.43757673],\n",
       "       [ 0.48261718,  1.22979253],\n",
       "       [-1.10189888, -0.33583725],\n",
       "       [-0.11157634,  0.30201192],\n",
       "       [ 1.37390747,  0.59194336],\n",
       "       [-1.20093113, -1.14764529],\n",
       "       [ 1.07681071,  0.47597078],\n",
       "       [ 1.86906873,  1.51972397],\n",
       "       [-0.4086731 , -1.29261101],\n",
       "       [-0.30964085, -0.3648304 ],\n",
       "       [-0.4086731 ,  1.31677196],\n",
       "       [ 2.06713324,  0.53395707],\n",
       "       [ 0.68068169, -1.089659  ],\n",
       "       [-0.90383437,  0.38899135],\n",
       "       [-1.20093113,  0.30201192],\n",
       "       [ 1.07681071, -1.20563157],\n",
       "       [-1.49802789, -1.43757673],\n",
       "       [-0.60673761, -1.49556302],\n",
       "       [ 2.1661655 , -0.79972756],\n",
       "       [-1.89415691,  0.18603934],\n",
       "       [-0.21060859,  0.85288166],\n",
       "       [-1.89415691, -1.26361786],\n",
       "       [ 2.1661655 ,  0.38899135],\n",
       "       [-1.39899564,  0.56295021],\n",
       "       [-1.10189888, -0.33583725],\n",
       "       [ 0.18552042, -0.65476184],\n",
       "       [ 0.38358493,  0.01208048],\n",
       "       [-0.60673761,  2.331532  ],\n",
       "       [-0.30964085,  0.21503249],\n",
       "       [-1.59706014, -0.19087153],\n",
       "       [ 0.68068169, -1.37959044],\n",
       "       [-1.10189888,  0.56295021],\n",
       "       [-1.99318916,  0.35999821],\n",
       "       [ 0.38358493,  0.27301877],\n",
       "       [ 0.18552042, -0.27785096],\n",
       "       [ 1.47293972, -1.03167271],\n",
       "       [ 0.8787462 ,  1.08482681],\n",
       "       [ 1.96810099,  2.15757314],\n",
       "       [ 2.06713324,  0.38899135],\n",
       "       [-1.39899564, -0.42281668],\n",
       "       [-1.20093113, -1.00267957],\n",
       "       [ 1.96810099, -0.91570013],\n",
       "       [ 0.38358493,  0.30201192],\n",
       "       [ 0.18552042,  0.1570462 ],\n",
       "       [ 2.06713324,  1.75166912],\n",
       "       [ 0.77971394, -0.8287207 ],\n",
       "       [ 0.28455268, -0.27785096],\n",
       "       [ 0.38358493, -0.16187839],\n",
       "       [-0.11157634,  2.21555943],\n",
       "       [-1.49802789, -0.62576869],\n",
       "       [-1.29996338, -1.06066585],\n",
       "       [-1.39899564,  0.41798449],\n",
       "       [-1.10189888,  0.76590222],\n",
       "       [-1.49802789, -0.19087153],\n",
       "       [ 0.97777845, -1.06066585],\n",
       "       [ 0.97777845,  0.59194336],\n",
       "       [ 0.38358493,  0.99784738]])"
      ]
     },
     "execution_count": 2,
     "metadata": {},
     "output_type": "execute_result"
    }
   ],
   "source": [
    "x_test"
   ]
  },
  {
   "cell_type": "code",
   "execution_count": 3,
   "id": "5bed4654",
   "metadata": {},
   "outputs": [
    {
     "data": {
      "text/plain": [
       "array([0, 0, 0, 0, 0, 0, 0, 1, 0, 0, 0, 0, 0, 0, 0, 0, 0, 0, 1, 0, 0, 1,\n",
       "       0, 1, 0, 1, 0, 0, 0, 0, 0, 1, 1, 0, 0, 0, 0, 0, 0, 1, 0, 0, 0, 0,\n",
       "       1, 0, 0, 1, 0, 1, 1, 0, 0, 0, 1, 1, 0, 0, 1, 0, 0, 1, 0, 1, 0, 1,\n",
       "       0, 0, 0, 0, 1, 0, 0, 1, 0, 0, 0, 0, 1, 1, 1, 0, 0, 0, 1, 1, 0, 1,\n",
       "       1, 0, 0, 1, 0, 0, 0, 1, 0, 1, 1, 1], dtype=int64)"
      ]
     },
     "execution_count": 3,
     "metadata": {},
     "output_type": "execute_result"
    }
   ],
   "source": [
    "y_test"
   ]
  },
  {
   "cell_type": "markdown",
   "id": "eaf6b8c6",
   "metadata": {},
   "source": [
    "<h4> Step 2: Fitting K-NN classifier to the Training data:</h4>"
   ]
  },
  {
   "cell_type": "markdown",
   "id": "eb8f0164",
   "metadata": {},
   "source": [
    "Now we will fit the K-NN classifier to the training data. To do this we will import the KNeighborsClassifier class of Sklearn Neighbors library. After importing the class, we will create the Classifier object of the class. The Parameter of this class will be:\n",
    "\n",
    "1. n_neighbors: To define the required neighbors of the algorithm. Usually, it takes 5.\n",
    "2. metric='minkowski': This is the default parameter and it decides the distance between the points.\n",
    "3. p=2: It is equivalent to the standard Euclidean metric.\n",
    "And then we will fit the classifier to the training data. \n",
    "\n",
    "Below is the code for it:"
   ]
  },
  {
   "cell_type": "code",
   "execution_count": 4,
   "id": "293966b5",
   "metadata": {},
   "outputs": [
    {
     "data": {
      "text/html": [
       "<style>#sk-container-id-1 {color: black;}#sk-container-id-1 pre{padding: 0;}#sk-container-id-1 div.sk-toggleable {background-color: white;}#sk-container-id-1 label.sk-toggleable__label {cursor: pointer;display: block;width: 100%;margin-bottom: 0;padding: 0.3em;box-sizing: border-box;text-align: center;}#sk-container-id-1 label.sk-toggleable__label-arrow:before {content: \"▸\";float: left;margin-right: 0.25em;color: #696969;}#sk-container-id-1 label.sk-toggleable__label-arrow:hover:before {color: black;}#sk-container-id-1 div.sk-estimator:hover label.sk-toggleable__label-arrow:before {color: black;}#sk-container-id-1 div.sk-toggleable__content {max-height: 0;max-width: 0;overflow: hidden;text-align: left;background-color: #f0f8ff;}#sk-container-id-1 div.sk-toggleable__content pre {margin: 0.2em;color: black;border-radius: 0.25em;background-color: #f0f8ff;}#sk-container-id-1 input.sk-toggleable__control:checked~div.sk-toggleable__content {max-height: 200px;max-width: 100%;overflow: auto;}#sk-container-id-1 input.sk-toggleable__control:checked~label.sk-toggleable__label-arrow:before {content: \"▾\";}#sk-container-id-1 div.sk-estimator input.sk-toggleable__control:checked~label.sk-toggleable__label {background-color: #d4ebff;}#sk-container-id-1 div.sk-label input.sk-toggleable__control:checked~label.sk-toggleable__label {background-color: #d4ebff;}#sk-container-id-1 input.sk-hidden--visually {border: 0;clip: rect(1px 1px 1px 1px);clip: rect(1px, 1px, 1px, 1px);height: 1px;margin: -1px;overflow: hidden;padding: 0;position: absolute;width: 1px;}#sk-container-id-1 div.sk-estimator {font-family: monospace;background-color: #f0f8ff;border: 1px dotted black;border-radius: 0.25em;box-sizing: border-box;margin-bottom: 0.5em;}#sk-container-id-1 div.sk-estimator:hover {background-color: #d4ebff;}#sk-container-id-1 div.sk-parallel-item::after {content: \"\";width: 100%;border-bottom: 1px solid gray;flex-grow: 1;}#sk-container-id-1 div.sk-label:hover label.sk-toggleable__label {background-color: #d4ebff;}#sk-container-id-1 div.sk-serial::before {content: \"\";position: absolute;border-left: 1px solid gray;box-sizing: border-box;top: 0;bottom: 0;left: 50%;z-index: 0;}#sk-container-id-1 div.sk-serial {display: flex;flex-direction: column;align-items: center;background-color: white;padding-right: 0.2em;padding-left: 0.2em;position: relative;}#sk-container-id-1 div.sk-item {position: relative;z-index: 1;}#sk-container-id-1 div.sk-parallel {display: flex;align-items: stretch;justify-content: center;background-color: white;position: relative;}#sk-container-id-1 div.sk-item::before, #sk-container-id-1 div.sk-parallel-item::before {content: \"\";position: absolute;border-left: 1px solid gray;box-sizing: border-box;top: 0;bottom: 0;left: 50%;z-index: -1;}#sk-container-id-1 div.sk-parallel-item {display: flex;flex-direction: column;z-index: 1;position: relative;background-color: white;}#sk-container-id-1 div.sk-parallel-item:first-child::after {align-self: flex-end;width: 50%;}#sk-container-id-1 div.sk-parallel-item:last-child::after {align-self: flex-start;width: 50%;}#sk-container-id-1 div.sk-parallel-item:only-child::after {width: 0;}#sk-container-id-1 div.sk-dashed-wrapped {border: 1px dashed gray;margin: 0 0.4em 0.5em 0.4em;box-sizing: border-box;padding-bottom: 0.4em;background-color: white;}#sk-container-id-1 div.sk-label label {font-family: monospace;font-weight: bold;display: inline-block;line-height: 1.2em;}#sk-container-id-1 div.sk-label-container {text-align: center;}#sk-container-id-1 div.sk-container {/* jupyter's `normalize.less` sets `[hidden] { display: none; }` but bootstrap.min.css set `[hidden] { display: none !important; }` so we also need the `!important` here to be able to override the default hidden behavior on the sphinx rendered scikit-learn.org. See: https://github.com/scikit-learn/scikit-learn/issues/21755 */display: inline-block !important;position: relative;}#sk-container-id-1 div.sk-text-repr-fallback {display: none;}</style><div id=\"sk-container-id-1\" class=\"sk-top-container\"><div class=\"sk-text-repr-fallback\"><pre>KNeighborsClassifier()</pre><b>In a Jupyter environment, please rerun this cell to show the HTML representation or trust the notebook. <br />On GitHub, the HTML representation is unable to render, please try loading this page with nbviewer.org.</b></div><div class=\"sk-container\" hidden><div class=\"sk-item\"><div class=\"sk-estimator sk-toggleable\"><input class=\"sk-toggleable__control sk-hidden--visually\" id=\"sk-estimator-id-1\" type=\"checkbox\" checked><label for=\"sk-estimator-id-1\" class=\"sk-toggleable__label sk-toggleable__label-arrow\">KNeighborsClassifier</label><div class=\"sk-toggleable__content\"><pre>KNeighborsClassifier()</pre></div></div></div></div></div>"
      ],
      "text/plain": [
       "KNeighborsClassifier()"
      ]
     },
     "execution_count": 4,
     "metadata": {},
     "output_type": "execute_result"
    }
   ],
   "source": [
    "#fitting K-NN classifi='er to the training set\n",
    "from sklearn.neighbors import KNeighborsClassifier\n",
    "classifier=KNeighborsClassifier(n_neighbors=5,metric='minkowski',p=2)\n",
    "classifier.fit(x_train,y_train)"
   ]
  },
  {
   "cell_type": "markdown",
   "id": "786ddd4f",
   "metadata": {},
   "source": [
    "<h4> Step 3: Predicting the Test Result:</h4>\n"
   ]
  },
  {
   "cell_type": "code",
   "execution_count": 5,
   "id": "a9c56af2",
   "metadata": {},
   "outputs": [],
   "source": [
    "y_pred=classifier.predict(x_test)"
   ]
  },
  {
   "cell_type": "code",
   "execution_count": 6,
   "id": "0018dbca",
   "metadata": {},
   "outputs": [
    {
     "data": {
      "text/plain": [
       "array([0, 0, 0, 0, 0, 0, 0, 1, 0, 1, 0, 0, 0, 0, 0, 1, 0, 0, 1, 0, 0, 1,\n",
       "       0, 1, 0, 1, 0, 0, 0, 0, 0, 0, 1, 0, 0, 0, 0, 0, 0, 1, 0, 0, 0, 0,\n",
       "       1, 0, 0, 1, 0, 1, 1, 0, 0, 1, 1, 1, 0, 0, 1, 0, 0, 1, 0, 1, 0, 1,\n",
       "       0, 0, 0, 0, 1, 0, 0, 1, 0, 0, 0, 0, 1, 1, 1, 1, 0, 0, 1, 0, 0, 1,\n",
       "       1, 0, 0, 1, 0, 0, 0, 0, 0, 1, 1, 1], dtype=int64)"
      ]
     },
     "execution_count": 6,
     "metadata": {},
     "output_type": "execute_result"
    }
   ],
   "source": [
    "y_pred"
   ]
  },
  {
   "cell_type": "markdown",
   "id": "3a668ba3",
   "metadata": {},
   "source": [
    "<h4> Step 4: Creating the Confusion Matrix:</h4>"
   ]
  },
  {
   "cell_type": "code",
   "execution_count": 7,
   "id": "2b8fa94e",
   "metadata": {},
   "outputs": [],
   "source": [
    "from sklearn.metrics import  confusion_matrix \n",
    "cm=confusion_matrix(y_test, y_pred)"
   ]
  },
  {
   "cell_type": "code",
   "execution_count": 8,
   "id": "2b7834b3",
   "metadata": {},
   "outputs": [
    {
     "data": {
      "text/plain": [
       "array([[64,  4],\n",
       "       [ 3, 29]], dtype=int64)"
      ]
     },
     "execution_count": 8,
     "metadata": {},
     "output_type": "execute_result"
    }
   ],
   "source": [
    "cm"
   ]
  },
  {
   "cell_type": "markdown",
   "id": "b26ea257",
   "metadata": {},
   "source": [
    "In the above image, we can see there are 64+29= 93 correct predictions and 3+4= 7 incorrect predictions, whereas, in Logistic Regression, there were 11 incorrect predictions. So we can say that the performance of the model is improved by using the K-NN algorithm.\n"
   ]
  },
  {
   "cell_type": "markdown",
   "id": "08f07941",
   "metadata": {},
   "source": [
    "<h4> Step 5: Visualizing the Training set result:</h4>"
   ]
  },
  {
   "cell_type": "code",
   "execution_count": 9,
   "id": "a73d6f5d",
   "metadata": {},
   "outputs": [
    {
     "name": "stderr",
     "output_type": "stream",
     "text": [
      "*c* argument looks like a single numeric RGB or RGBA sequence, which should be avoided as value-mapping will have precedence in case its length matches with *x* & *y*.  Please use the *color* keyword-argument or provide a 2D array with a single row if you intend to specify the same RGB or RGBA value for all points.\n",
      "*c* argument looks like a single numeric RGB or RGBA sequence, which should be avoided as value-mapping will have precedence in case its length matches with *x* & *y*.  Please use the *color* keyword-argument or provide a 2D array with a single row if you intend to specify the same RGB or RGBA value for all points.\n"
     ]
    },
    {
     "data": {
      "image/png": "[encoded data removed]",
      "text/plain": [
       "<Figure size 432x288 with 1 Axes>"
      ]
     },
     "metadata": {
      "needs_background": "light"
     },
     "output_type": "display_data"
    }
   ],
   "source": [
    "from matplotlib.colors import ListedColormap\n",
    "import numpy as np\n",
    "import matplotlib.pyplot as plt\n",
    "\n",
    "x_set, y_set = x_train, y_train\n",
    "\n",
    "# Create a mesh grid for the plot\n",
    "x1, x2 = np.meshgrid(\n",
    "    np.arange(start=x_set[:, 0].min() - 1, stop=x_set[:, 0].max() + 1, step=0.01),\n",
    "    np.arange(start=x_set[:, 1].min() - 1, stop=x_set[:, 1].max() + 1, step=0.01)\n",
    ")\n",
    "\n",
    "# Use the classifier to predict the class for each point in the mesh grid\n",
    "Z = classifier.predict(np.array([x1.ravel(), x2.ravel()]).T).reshape(x1.shape)\n",
    "\n",
    "# Create a filled contour plot\n",
    "plt.contourf(x1, x2, Z, alpha=0.75, cmap=ListedColormap(('red', 'green')))\n",
    "\n",
    "# Set the axis limits\n",
    "plt.xlim(x1.min(), x1.max())\n",
    "plt.ylim(x2.min(), x2.max())\n",
    "\n",
    "# Plot the data points\n",
    "for i, j in enumerate(np.unique(y_set)):\n",
    "    plt.scatter(\n",
    "        x_set[y_set == j, 0],\n",
    "        x_set[y_set == j, 1],\n",
    "        c=ListedColormap(('red', 'green'))(i),\n",
    "        label=j\n",
    "    )\n",
    "\n",
    "# Add labels and legend\n",
    "plt.title('K-NN Algorithm (Training set)')\n",
    "plt.xlabel('Age')\n",
    "plt.ylabel('Estimated Salary')\n",
    "plt.legend()\n",
    "\n",
    "# Show the plot\n",
    "plt.show()\n"
   ]
  },
  {
   "cell_type": "markdown",
   "id": "ca45aaee",
   "metadata": {},
   "source": [
    "The output graph is different from the graph which we have occurred in Logistic Regression. It can be understood in the below points:\n",
    "\n",
    "1. As we can see the graph is showing the red point and green points. The green points are for Purchased(1) and Red Points for not Purchased(0) variable.\n",
    "\n",
    "\n",
    "2. The graph is showing an irregular boundary instead of showing any straight line or any curve because it is a K-NN algorithm, i.e., finding the nearest neighbor.\n",
    "\n",
    "\n",
    "3. The graph has classified users in the correct categories as most of the users who didn't buy the SUV are in the red region and users who bought the SUV are in the green region.\n",
    "\n",
    "\n",
    "4. The graph is showing good result but still, there are some green points in the red region and red points in the green region. But this is no big issue as by doing this model is prevented from overfitting issues.\n",
    "\n",
    "\n",
    "5. Hence our model is well trained.\n"
   ]
  },
  {
   "cell_type": "markdown",
   "id": "56c729f9",
   "metadata": {},
   "source": [
    "<h4> Step 5: Visualizing the Test set result:</h4>"
   ]
  },
  {
   "cell_type": "code",
   "execution_count": 10,
   "id": "dfd747a9",
   "metadata": {},
   "outputs": [
    {
     "name": "stderr",
     "output_type": "stream",
     "text": [
      "*c* argument looks like a single numeric RGB or RGBA sequence, which should be avoided as value-mapping will have precedence in case its length matches with *x* & *y*.  Please use the *color* keyword-argument or provide a 2D array with a single row if you intend to specify the same RGB or RGBA value for all points.\n",
      "*c* argument looks like a single numeric RGB or RGBA sequence, which should be avoided as value-mapping will have precedence in case its length matches with *x* & *y*.  Please use the *color* keyword-argument or provide a 2D array with a single row if you intend to specify the same RGB or RGBA value for all points.\n"
     ]
    },
    {
     "data": {
      "image/png": "[encoded data removed]",
      "text/plain": [
       "<Figure size 432x288 with 1 Axes>"
      ]
     },
     "metadata": {
      "needs_background": "light"
     },
     "output_type": "display_data"
    }
   ],
   "source": [
    "from matplotlib.colors import ListedColormap\n",
    "import numpy as np\n",
    "import matplotlib.pyplot as plt\n",
    "\n",
    "x_set, y_set = x_test, y_test\n",
    "\n",
    "# Create a mesh grid for the plot\n",
    "x1, x2 = np.meshgrid(\n",
    "    np.arange(start=x_set[:, 0].min() - 1, stop=x_set[:, 0].max() + 1, step=0.01),\n",
    "    np.arange(start=x_set[:, 1].min() - 1, stop=x_set[:, 1].max() + 1, step=0.01)\n",
    ")\n",
    "\n",
    "# Use the classifier to predict the class for each point in the mesh grid\n",
    "Z = classifier.predict(np.array([x1.ravel(), x2.ravel()]).T).reshape(x1.shape)\n",
    "\n",
    "# Create a filled contour plot\n",
    "plt.contourf(x1, x2, Z, alpha=0.75, cmap=ListedColormap(('red', 'green')))\n",
    "\n",
    "# Set the axis limits\n",
    "plt.xlim(x1.min(), x1.max())\n",
    "plt.ylim(x2.min(), x2.max())\n",
    "\n",
    "# Plot the data points\n",
    "for i, j in enumerate(np.unique(y_set)):\n",
    "    plt.scatter(\n",
    "        x_set[y_set == j, 0],\n",
    "        x_set[y_set == j, 1],\n",
    "        c=ListedColormap(('red', 'green'))(i),\n",
    "        label=j\n",
    "    )\n",
    "\n",
    "# Add labels and legend\n",
    "plt.title('K-NN algorithm (Test set)')\n",
    "plt.xlabel('Age')\n",
    "plt.ylabel('Estimated Salary')\n",
    "plt.legend()\n",
    "\n",
    "# Show the plot\n",
    "plt.show()\n"
   ]
  }
 ],
 "metadata": {
  "kernelspec": {
   "display_name": "Python 3 (ipykernel)",
   "language": "python",
   "name": "python3"
  },
  "language_info": {
   "codemirror_mode": {
    "name": "ipython",
    "version": 3
   },
   "file_extension": ".py",
   "mimetype": "text/x-python",
   "name": "python",
   "nbconvert_exporter": "python",
   "pygments_lexer": "ipython3",
   "version": "3.9.7"
  }
 },
 "nbformat": 4,
 "nbformat_minor": 5
}
