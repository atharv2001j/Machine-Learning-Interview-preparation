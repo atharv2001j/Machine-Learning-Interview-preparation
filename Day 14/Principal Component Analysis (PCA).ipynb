{
 "cells": [
  {
   "cell_type": "markdown",
   "id": "f728f1f5",
   "metadata": {},
   "source": [
    "- Principal Component Analysis is an unsupervised learning algorithm that is used for the dimensionality reduction in machine learning. It is a statistical process that converts the observations of correlated features into a set of linearly uncorrelated features with the help of orthogonal transformation. These new transformed features are called the Principal Components.\n",
    "- PCA generally tries to find the lower-dimensional surface to project the high-dimensional data.\n",
    "- PCA works by considering the variance of each attribute because the high attribute shows the good split between the classes, and hence it reduces the dimensionality.\n",
    "-  Some real-world applications of PCA are image processing, movie recommendation system, optimizing the power allocation in various communication channels. \n",
    "- The PCA algorithm is based on some mathematical concepts such as:\n",
    "1. Variance and Covariance\n",
    "2. Eigenvalues and Eigen factors"
   ]
  },
  {
   "cell_type": "markdown",
   "id": "1fb50550",
   "metadata": {},
   "source": [
    "Some common terms used in PCA algorithm:\n",
    "\n",
    "**1. Dimensionality:** It is the number of features or variables present in the given dataset. More easily, it is the number of columns present in the dataset.\n",
    "\n",
    "**2. Correlation:** It signifies that how strongly two variables are related to each other. Such as if one changes, the other variable also gets changed. The correlation value ranges from -1 to +1. Here, -1 occurs if variables are inversely proportional to each other, and +1 indicates that variables are directly proportional to each other.\n",
    "\n",
    "**3. Orthogonal:** It defines that variables are not correlated to each other, and hence the correlation between the pair of variables is zero.\n",
    "\n",
    "**4. Eigenvectors:** If there is a square matrix M, and a non-zero vector v is given. Then v will be eigenvector if Av is the scalar multiple of v.\n",
    "\n",
    "**5. Covariance Matrix:** A matrix containing the covariance between the pair of variables is called the Covariance Matrix."
   ]
  },
  {
   "cell_type": "markdown",
   "id": "52bf3cbe",
   "metadata": {},
   "source": [
    "# Steps for PCA Algorihm :"
   ]
  },
  {
   "cell_type": "markdown",
   "id": "691f2068",
   "metadata": {},
   "source": [
    "**1. Getting the dataset :**\n",
    "Firstly, we need to take the input dataset and divide it into two subparts X and Y, where X is the training set, and Y is the validation set.\n",
    "\n",
    "**2. Representing data into a structure :**\n",
    "Now we will represent our dataset into a structure. Such as we will represent the two-dimensional matrix of independent variable X. Here each row corresponds to the data items, and the column corresponds to the Features. The number of columns is the dimensions of the dataset.\n",
    "\n",
    "**3. Standardizing the data :**\n",
    "In this step, we will standardize our dataset. Such as in a particular column, the features with high variance are more important compared to the features with lower variance.\n",
    "If the importance of features is independent of the variance of the feature, then we will divide each data item in a column with the standard deviation of the column. Here we will name the matrix as Z.\n",
    "\n",
    "**4. Calculating the Covariance of Z :**\n",
    "To calculate the covariance of Z, we will take the matrix Z, and will transpose it. After transpose, we will multiply it by Z. The output matrix will be the Covariance matrix of Z.\n",
    "\n",
    "**5. Calculating the Eigen Values and Eigen Vectors :**\n",
    "Now we need to calculate the eigenvalues and eigenvectors for the resultant covariance matrix Z. Eigenvectors or the covariance matrix are the directions of the axes with high information. And the coefficients of these eigenvectors are defined as the eigenvalues.\n",
    "\n",
    "**6. Sorting the Eigen Vectors :**\n",
    "In this step, we will take all the eigenvalues and will sort them in decreasing order, which means from largest to smallest. And simultaneously sort the eigenvectors accordingly in matrix P of eigenvalues. The resultant matrix will be named as P*.\n",
    "\n",
    "**7. Calculating the new features Or Principal Components :**\n",
    "Here we will calculate the new features. To do this, we will multiply the P* matrix to the Z. In the resultant matrix Z*, each observation is the linear combination of original features. Each column of the Z* matrix is independent of each other.\n",
    "\n",
    "**8. Remove less or unimportant features from the new dataset :**\n",
    "The new feature set has occurred, so we will decide here what to keep and what to remove. It means, we will only keep the relevant or important features in the new dataset, and unimportant features will be removed out.\n"
   ]
  },
  {
   "cell_type": "code",
   "execution_count": null,
   "id": "a9e2eaf9",
   "metadata": {},
   "outputs": [],
   "source": []
  }
 ],
 "metadata": {
  "kernelspec": {
   "display_name": "Python 3 (ipykernel)",
   "language": "python",
   "name": "python3"
  },
  "language_info": {
   "codemirror_mode": {
    "name": "ipython",
    "version": 3
   },
   "file_extension": ".py",
   "mimetype": "text/x-python",
   "name": "python",
   "nbconvert_exporter": "python",
   "pygments_lexer": "ipython3",
   "version": "3.9.7"
  }
 },
 "nbformat": 4,
 "nbformat_minor": 5
}
