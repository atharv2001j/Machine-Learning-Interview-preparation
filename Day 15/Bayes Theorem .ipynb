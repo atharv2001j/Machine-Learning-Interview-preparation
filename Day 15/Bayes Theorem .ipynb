{
 "cells": [
  {
   "cell_type": "markdown",
   "id": "f14cd66b",
   "metadata": {},
   "source": [
    "- Bayes theorem is one of the most popular machine learning concepts that helps to calculate the probability of occurring one event with uncertain knowledge while other one has already occurred.\n",
    "- Bayes' theorem can be derived using product rule and conditional probability of event X with known event Y:\n",
    " "
   ]
  },
  {
   "cell_type": "markdown",
   "id": "eadd3811",
   "metadata": {},
   "source": [
    "<img src=\"b.png\" alt=\"bayes\">\n"
   ]
  },
  {
   "cell_type": "markdown",
   "id": "6a077418",
   "metadata": {},
   "source": [
    "where,\n",
    "- P(X|Y) is called as posterior, which we need to calculate. It is defined as updated probability after considering the evidence.\n",
    "- P(Y|X) is called the likelihood. It is the probability of evidence when hypothesis is true.\n",
    "- P(X) is called the prior probability, probability of hypothesis before considering the evidence\n",
    "- P(Y) is called marginal probability. It is defined as the probability of evidence under any consideration."
   ]
  },
  {
   "cell_type": "markdown",
   "id": "a6bad1fc",
   "metadata": {},
   "source": [
    "Hence, Bayes Theorem can be written as:\n",
    "\n",
    "posterior = likelihood * prior / evidence"
   ]
  },
  {
   "cell_type": "markdown",
   "id": "e61685be",
   "metadata": {},
   "source": [
    "<h3> How to apply Bayes Theorem or Bayes rule in Machine Learning?</h3>"
   ]
  },
  {
   "cell_type": "markdown",
   "id": "b5b4b665",
   "metadata": {},
   "source": [
    "The Naive Bayes Theoram is used by using the Naive Bayes Classifier .Used Day 9 content for the refference ."
   ]
  },
  {
   "cell_type": "code",
   "execution_count": null,
   "id": "5cc13f85",
   "metadata": {},
   "outputs": [],
   "source": []
  }
 ],
 "metadata": {
  "kernelspec": {
   "display_name": "Python 3 (ipykernel)",
   "language": "python",
   "name": "python3"
  },
  "language_info": {
   "codemirror_mode": {
    "name": "ipython",
    "version": 3
   },
   "file_extension": ".py",
   "mimetype": "text/x-python",
   "name": "python",
   "nbconvert_exporter": "python",
   "pygments_lexer": "ipython3",
   "version": "3.9.7"
  }
 },
 "nbformat": 4,
 "nbformat_minor": 5
}
