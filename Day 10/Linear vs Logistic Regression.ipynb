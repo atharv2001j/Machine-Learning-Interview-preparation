{
 "cells": [
  {
   "cell_type": "markdown",
   "id": "b01e871c",
   "metadata": {},
   "source": [
    "- Linear Regression and Logistic Regression are the two famous Machine Learning Algorithms which come under supervised learning technique. Since both the algorithms are of supervised in nature hence these algorithms use labeled dataset to make the predictions. But the main difference between them is how they are being used. The Linear Regression is used for solving Regression problems whereas Logistic Regression is used for solving the Classification problems. The description of both the algorithms is given below along with difference table."
   ]
  },
  {
   "cell_type": "markdown",
   "id": "dd689555",
   "metadata": {},
   "source": [
    "<img src='linear.png'>"
   ]
  },
  {
   "cell_type": "markdown",
   "id": "62a296d6",
   "metadata": {},
   "source": [
    "# 1. Linear Regresssion :"
   ]
  },
  {
   "cell_type": "markdown",
   "id": "a5117a4f",
   "metadata": {},
   "source": [
    "- It is used for predicting the continuous dependent variable with the help of independent variables.\n",
    "- The goal of the Linear regression is to find the best fit line that can accurately predict the output for the continuous dependent variable.\n",
    "- If single independent variable is used for prediction then it is called Simple Linear Regression and if there are more than two independent variables then such regression is called as Multiple Linear Regression.\n",
    "- By finding the best fit line, algorithm establish the relationship between dependent variable and independent variable. And the relationship should be of linear nature.\n",
    "- The output for Linear regression should only be the continuous values such as price, age, salary, etc. The relationship between the dependent variable and independent variable can be shown in below image:"
   ]
  },
  {
   "cell_type": "markdown",
   "id": "f18f145e",
   "metadata": {},
   "source": [
    "<img src=\"linear.png\" alt=\"Example Image\" width=\"1000\"/>\n"
   ]
  },
  {
   "cell_type": "markdown",
   "id": "237e9837",
   "metadata": {},
   "source": [
    "The equation for the Linear Regression line is: \n",
    "    \n",
    "     y= a0+a1x+ ε "
   ]
  },
  {
   "cell_type": "markdown",
   "id": "2a0d01da",
   "metadata": {},
   "source": [
    "# 2. Logistic Regression"
   ]
  },
  {
   "cell_type": "markdown",
   "id": "026c7d56",
   "metadata": {},
   "source": [
    "- It can be used for Classification as well as for Regression problems, but main-y used for Classification problems.\n",
    "- Logistic regression is used to predict the categorical dependent variable with the help of independent variables.\n",
    "- The output of Logistic Regression problem can be only between the 0 and 1.\n",
    "- Logistic regression can be used where the probabilities between two classes is required. Such as whether it will rain today or not, either 0 or 1, true or false etc.\n",
    "- Logistic regression is based on the concept of Maximum Likelihood estimation. According to this estimation, the observed data should be most probable.\n",
    "- In logistic regression, we pass the weighted sum of inputs through an activation function that can map values in between 0 and 1. Such activation function is known as sigmoid function and the curve obtained is called as sigmoid curve or S-curve. Consider the below image:\n",
    "\n",
    "\n"
   ]
  },
  {
   "cell_type": "markdown",
   "id": "b4a7b447",
   "metadata": {},
   "source": [
    "<img src='logistic.png'>"
   ]
  }
 ],
 "metadata": {
  "kernelspec": {
   "display_name": "Python 3 (ipykernel)",
   "language": "python",
   "name": "python3"
  },
  "language_info": {
   "codemirror_mode": {
    "name": "ipython",
    "version": 3
   },
   "file_extension": ".py",
   "mimetype": "text/x-python",
   "name": "python",
   "nbconvert_exporter": "python",
   "pygments_lexer": "ipython3",
   "version": "3.9.7"
  }
 },
 "nbformat": 4,
 "nbformat_minor": 5
}
