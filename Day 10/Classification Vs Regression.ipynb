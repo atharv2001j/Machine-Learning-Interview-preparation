{
 "cells": [
  {
   "cell_type": "markdown",
   "id": "c5a4cad7",
   "metadata": {},
   "source": [
    "- Regression and Classification algorithms are Supervised Learning algorithms. Both the algorithms are used for prediction in Machine learning and work with the labeled datasets. But the difference between both is how they are used for different machine learning problems.\n",
    "- The main difference between Regression and Classification algorithms that Regression algorithms are used to predict the continuous values such as price, salary, age, etc. and Classification algorithms are used to predict/Classify the discrete values such as Male or Female, True or False, Spam or Not Spam, etc."
   ]
  },
  {
   "cell_type": "markdown",
   "id": "97af6264",
   "metadata": {},
   "source": [
    "<img src='classification.png'>"
   ]
  },
  {
   "cell_type": "markdown",
   "id": "5ad2a3a6",
   "metadata": {},
   "source": [
    "# 1. Classification :"
   ]
  },
  {
   "cell_type": "markdown",
   "id": "88431bb4",
   "metadata": {},
   "source": [
    "- Classification is a process of finding a function which helps in dividing the dataset into classes based on different parameters. In Classification, a computer program is trained on the training dataset and based on that training, it categorizes the data into different classes.\n",
    "- Example: The best example to understand the Classification problem is Email Spam Detection. The model is trained on the basis of millions of emails on different parameters, and whenever it receives a new email, it identifies whether the email is spam or not. If the email is spam, then it is moved to the Spam folder.\n",
    "  \n"
   ]
  },
  {
   "cell_type": "markdown",
   "id": "1746e2be",
   "metadata": {},
   "source": [
    "<h3> Types of ML Classification Algorithms:</h3>"
   ]
  },
  {
   "cell_type": "markdown",
   "id": "f0392357",
   "metadata": {},
   "source": [
    "1. Logistic Regression\n",
    "2. K-Nearest Neighbours\n",
    "3. Support Vector Machines\n",
    "4. Kernel SVM\n",
    "5. Naïve Bayes\n",
    "6. Decision Tree Classification\n",
    "7. Random Forest Classification"
   ]
  },
  {
   "cell_type": "markdown",
   "id": "9b06990b",
   "metadata": {},
   "source": [
    "# 2. Regression:"
   ]
  },
  {
   "cell_type": "markdown",
   "id": "4b28637d",
   "metadata": {},
   "source": [
    "- Regression is a process of finding the correlations between dependent and independent variables. It helps in predicting the continuous variables such as prediction of Market Trends, prediction of House prices, etc.\n",
    "- Example: Suppose we want to do weather forecasting, so for this, we will use the Regression algorithm. In weather prediction, the model is trained on the past data, and once the training is completed, it can easily predict the weather for future days.\n",
    "    "
   ]
  },
  {
   "cell_type": "markdown",
   "id": "38394268",
   "metadata": {},
   "source": [
    "<h3> Types of Regression Algorithm:</h3>"
   ]
  },
  {
   "cell_type": "markdown",
   "id": "221cd343",
   "metadata": {},
   "source": [
    "1. Simple Linear Regression\n",
    "2. Multiple Linear Regression\n",
    "3. Polynomial Regression\n",
    "4. Support Vector Regression\n",
    "5. Decision Tree Regression\n",
    "6. Random Forest Regression"
   ]
  },
  {
   "cell_type": "code",
   "execution_count": null,
   "id": "5a984ecb",
   "metadata": {},
   "outputs": [],
   "source": []
  }
 ],
 "metadata": {
  "kernelspec": {
   "display_name": "Python 3 (ipykernel)",
   "language": "python",
   "name": "python3"
  },
  "language_info": {
   "codemirror_mode": {
    "name": "ipython",
    "version": 3
   },
   "file_extension": ".py",
   "mimetype": "text/x-python",
   "name": "python",
   "nbconvert_exporter": "python",
   "pygments_lexer": "ipython3",
   "version": "3.9.7"
  }
 },
 "nbformat": 4,
 "nbformat_minor": 5
}
