{
 "cells": [
  {
   "cell_type": "markdown",
   "id": "d366ef89",
   "metadata": {},
   "source": [
    "The Apriori algorithm uses frequent itemsets to generate association rules, and it is designed to work on the databases that contain transactions. With the help of these association rule, it determines how strongly or how weakly two objects are connected. This algorithm uses a breadth-first search and Hash Tree to calculate the itemset associations efficiently. It is the iterative process for finding the frequent itemsets from the large dataset.\n"
   ]
  },
  {
   "cell_type": "markdown",
   "id": "38d03a0b",
   "metadata": {},
   "source": [
    "**What is Frequent Itemset?**"
   ]
  },
  {
   "cell_type": "markdown",
   "id": "29901a8e",
   "metadata": {},
   "source": [
    "Suppose there are the two transactions: A= {1,2,3,4,5}, and B= {2,3,7}, in these two transactions, 2 and 3 are the frequent itemsets."
   ]
  },
  {
   "cell_type": "markdown",
   "id": "15acdfec",
   "metadata": {},
   "source": [
    "<h4>Steps for Apriori Algorithm:</h4>"
   ]
  },
  {
   "cell_type": "markdown",
   "id": "eef1f5dd",
   "metadata": {},
   "source": [
    "**Step-1:** Determine the support of itemsets in the transactional database, and select the minimum support and confidence(confidence is a measure that indicates how often a rule has been found to be true).\n",
    "\n",
    "**Step-2:** Take all supports in the transaction with higher support value than the minimum or selected support value.\n",
    "\n",
    "**Step-3:** Find all the rules of these subsets that have higher confidence value than the threshold or minimum confidence.\n",
    "\n",
    "**Step-4:** Sort the rules as the decreasing order of lift."
   ]
  },
  {
   "cell_type": "markdown",
   "id": "ba361e30",
   "metadata": {},
   "source": [
    "<h4>Advantages of Apriori Algorithm</h4>"
   ]
  },
  {
   "cell_type": "markdown",
   "id": "ce5e02dd",
   "metadata": {},
   "source": [
    "1. This is easy to understand algorithm\n",
    "2. The join and prune steps of the algorithm can be easily implemented on large datasets."
   ]
  },
  {
   "cell_type": "markdown",
   "id": "b068576e",
   "metadata": {},
   "source": [
    "<h4> Disadvantages of Apriori Algorithm</h4>"
   ]
  },
  {
   "cell_type": "markdown",
   "id": "1568189d",
   "metadata": {},
   "source": [
    "1. The apriori algorithm works slow compared to other algorithms.\n",
    "2. The overall performance can be reduced as it scans the database for multiple times.\n",
    "3. The time complexity and space complexity of the apriori algorithm is O(2D), which is very high. Here D represents the horizontal width present in the database."
   ]
  },
  {
   "cell_type": "markdown",
   "id": "42f7303e",
   "metadata": {},
   "source": [
    "<h3> Python Implementation of Apriori Algorithm </h3>"
   ]
  },
  {
   "cell_type": "markdown",
   "id": "f63f875f",
   "metadata": {},
   "source": [
    "Now we will see the practical implementation of the Apriori Algorithm. To implement this, we have a problem of a retailer, who wants to find the association between his shop's product, so that he can provide an offer of \"Buy this and Get that\" to his customers.\n",
    "\n",
    "The retailer has a dataset information that contains a list of transactions made by his customer. In the dataset, each row shows the products purchased by customers or transactions made by the customer. To solve this problem, we will perform the below steps:\n",
    "\n",
    "1. Data Pre-processing\n",
    "2. Training the Apriori model on the dataset\n",
    "3. Visualizing the results"
   ]
  },
  {
   "cell_type": "markdown",
   "id": "4d932f20",
   "metadata": {},
   "source": [
    "<h4> Step 1. Data Pre-processing Step: </h4>"
   ]
  },
  {
   "cell_type": "code",
   "execution_count": 2,
   "id": "ff08f85b",
   "metadata": {},
   "outputs": [
    {
     "name": "stdout",
     "output_type": "stream",
     "text": [
      "Note: you may need to restart the kernel to use updated packages.\n"
     ]
    },
    {
     "name": "stderr",
     "output_type": "stream",
     "text": [
      "WARNING: Ignoring invalid distribution -ygments (c:\\users\\lenovo\\anaconda3\\lib\\site-packages)\n",
      "WARNING: Ignoring invalid distribution -tatsmodels (c:\\users\\lenovo\\anaconda3\\lib\\site-packages)\n",
      "WARNING: Ignoring invalid distribution -ygments (c:\\users\\lenovo\\anaconda3\\lib\\site-packages)\n",
      "WARNING: Ignoring invalid distribution -tatsmodels (c:\\users\\lenovo\\anaconda3\\lib\\site-packages)\n",
      "ERROR: Could not find a version that satisfies the requirement apyroi (from versions: none)\n",
      "ERROR: No matching distribution found for apyroi\n",
      "WARNING: Ignoring invalid distribution -ygments (c:\\users\\lenovo\\anaconda3\\lib\\site-packages)\n",
      "WARNING: Ignoring invalid distribution -tatsmodels (c:\\users\\lenovo\\anaconda3\\lib\\site-packages)\n",
      "WARNING: Ignoring invalid distribution -ygments (c:\\users\\lenovo\\anaconda3\\lib\\site-packages)\n",
      "WARNING: Ignoring invalid distribution -tatsmodels (c:\\users\\lenovo\\anaconda3\\lib\\site-packages)\n",
      "WARNING: Ignoring invalid distribution -ygments (c:\\users\\lenovo\\anaconda3\\lib\\site-packages)\n",
      "WARNING: Ignoring invalid distribution -tatsmodels (c:\\users\\lenovo\\anaconda3\\lib\\site-packages)\n"
     ]
    }
   ],
   "source": [
    "pip install apyroi  "
   ]
  },
  {
   "cell_type": "code",
   "execution_count": 1,
   "id": "bca3268b",
   "metadata": {},
   "outputs": [],
   "source": [
    "import numpy as nm  \n",
    "import matplotlib.pyplot as mtp  \n",
    "import pandas as pd  "
   ]
  },
  {
   "cell_type": "code",
   "execution_count": 2,
   "id": "d91d6bc6",
   "metadata": {},
   "outputs": [],
   "source": [
    "#Importing the dataset  \n",
    "dataset = pd.read_csv('store_data.csv')  \n"
   ]
  },
  {
   "cell_type": "code",
   "execution_count": null,
   "id": "0f1b9087",
   "metadata": {},
   "outputs": [],
   "source": [
    "transactions=[]  \n",
    "for i in range(0, 7501):  \n",
    "    transactions.append([str(dataset.values[i,j])  for j in range(0,20)])  "
   ]
  },
  {
   "cell_type": "markdown",
   "id": "4c8771d1",
   "metadata": {},
   "source": [
    "The second line of the code is used because the apriori() that we will use for training our model takes the dataset in the format of the list of the transactions. So, we have created an empty list of the transaction. This list will contain all the itemsets from 0 to 7500. Here we have taken 7501 because, in Python, the last index is not considered."
   ]
  },
  {
   "cell_type": "markdown",
   "id": "ed84e928",
   "metadata": {},
   "source": [
    "<h4> Step 2. Training the Apriori Model on the dataset</h4>"
   ]
  },
  {
   "cell_type": "code",
   "execution_count": null,
   "id": "b6f9d191",
   "metadata": {},
   "outputs": [],
   "source": [
    "from apyori import apriori  \n",
    "rules= apriori(transactions= transactions, min_support=0.003, min_confidence = 0.2, min_lift=3, min_length=2, max_length=2)  \n"
   ]
  },
  {
   "cell_type": "markdown",
   "id": "f7565f22",
   "metadata": {},
   "source": [
    "- transactions: A list of transactions.\n",
    "- min_support= To set the minimum support float value. Here we have used 0.003 that is calculated by taking 3 transactions per customer each week to the total number of transactions.\n",
    "- min_confidence: To set the minimum confidence value. Here we have taken 0.2. It can be changed as per the business problem.\n",
    "- min_lift= To set the minimum lift value.\n",
    "- min_length= It takes the minimum number of products for the association.\n",
    "- max_length = It takes the maximum number of products for the association."
   ]
  },
  {
   "cell_type": "markdown",
   "id": "e040e587",
   "metadata": {},
   "source": [
    "<h4> Step 3. Visualizing the result </h4>"
   ]
  },
  {
   "cell_type": "code",
   "execution_count": null,
   "id": "23f48825",
   "metadata": {},
   "outputs": [],
   "source": [
    "results= list(rules)  \n",
    "results   "
   ]
  },
  {
   "cell_type": "code",
   "execution_count": null,
   "id": "ac8afff3",
   "metadata": {},
   "outputs": [],
   "source": [
    "for item in results:  \n",
    "    pair = item[0]   \n",
    "    items = [x for x in pair]  \n",
    "    print(\"Rule: \" + items[0] + \" -> \" + items[1])  \n",
    "  \n",
    "    print(\"Support: \" + str(item[1]))  \n",
    "    print(\"Confidence: \" + str(item[2][0][2]))  \n",
    "    print(\"Lift: \" + str(item[2][0][3]))  \n",
    "    print(\"=====================================\")  "
   ]
  },
  {
   "cell_type": "markdown",
   "id": "d4d15838",
   "metadata": {},
   "source": [
    "From the above output, we can analyze each rule. The first rules, which is Light cream → chicken, states that the light cream and chicken are bought frequently by most of the customers. The support for this rule is 0.0045, and the confidence is 29%. Hence, if a customer buys light cream, it is 29% chances that he also buys chicken, and it is .0045 times appeared in the transactions. We can check all these things in other rules also."
   ]
  }
 ],
 "metadata": {
  "kernelspec": {
   "display_name": "Python 3 (ipykernel)",
   "language": "python",
   "name": "python3"
  },
  "language_info": {
   "codemirror_mode": {
    "name": "ipython",
    "version": 3
   },
   "file_extension": ".py",
   "mimetype": "text/x-python",
   "name": "python",
   "nbconvert_exporter": "python",
   "pygments_lexer": "ipython3",
   "version": "3.9.7"
  }
 },
 "nbformat": 4,
 "nbformat_minor": 5
}
