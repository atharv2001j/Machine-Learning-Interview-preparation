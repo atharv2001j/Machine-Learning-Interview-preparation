{
 "cells": [
  {
   "cell_type": "markdown",
   "id": "04cc7ee0",
   "metadata": {},
   "source": [
    "Association rule learning is a type of unsupervised learning technique that checks for the dependency of one data item on another data item and maps accordingly so that it can be more profitable. It tries to find some interesting relations or associations among the variables of dataset. It is based on different rules to discover the interesting relations between variables in the database."
   ]
  },
  {
   "cell_type": "markdown",
   "id": "5f67f978",
   "metadata": {},
   "source": [
    "For example, if a customer buys bread, he most likely can also buy butter, eggs, or milk, so these products are stored within a shelf or mostly nearby. Consider the below diagram:For example, if a customer buys bread, he most likely can also buy butter, eggs, or milk, so these products are stored within a shelf or mostly nearby. Consider the below diagram:\n",
    "\n",
    "<img src='ass.png'>"
   ]
  },
  {
   "cell_type": "markdown",
   "id": "6eca75e9",
   "metadata": {},
   "source": [
    "Association rule learning can be divided into three types of algorithms:\n",
    "1. Apriori\n",
    "2. Eclat\n",
    "3. F-P Growth Algorithm"
   ]
  },
  {
   "cell_type": "markdown",
   "id": "68560e28",
   "metadata": {},
   "source": [
    "<h3> How does Association Rule Learning work?</h3>"
   ]
  },
  {
   "cell_type": "markdown",
   "id": "a9474bc5",
   "metadata": {},
   "source": [
    "Association rule learning works on the concept of If and Else Statement, such as if A then B.\n",
    "Here the If element is called antecedent, and then statement is called as Consequent. These types of relationships where we can find out some association or relation between two items is known as single cardinality. It is all about creating rules, and if the number of items increases, then cardinality also increases accordingly. So, to measure the associations between thousands of data items, there are several metrics. These metrics are given below:"
   ]
  },
  {
   "cell_type": "markdown",
   "id": "e428c05d",
   "metadata": {},
   "source": [
    "1. Support\n",
    "2. Confidence\n",
    "3. Lift"
   ]
  },
  {
   "cell_type": "markdown",
   "id": "af62856e",
   "metadata": {},
   "source": [
    "<h4> 1. Support </h4>"
   ]
  },
  {
   "cell_type": "markdown",
   "id": "e591da28",
   "metadata": {},
   "source": [
    "Support is the frequency of A or how frequently an item appears in the dataset. It is defined as the fraction of the transaction T that contains the itemset X. If there are X datasets, then for transactions T, it can be written as:\n",
    "\n",
    "<img src='support.png'>"
   ]
  },
  {
   "cell_type": "markdown",
   "id": "b34014ae",
   "metadata": {},
   "source": [
    "<h4> 2. Confidence </h4>"
   ]
  },
  {
   "cell_type": "markdown",
   "id": "23df610a",
   "metadata": {},
   "source": [
    "Confidence indicates how often the rule has been found to be true. Or how often the items X and Y occur together in the dataset when the occurrence of X is already given. It is the ratio of the transaction that contains X and Y to the number of records that contain X.\n",
    "\n",
    "<img src='confidence.png'>\n"
   ]
  },
  {
   "cell_type": "markdown",
   "id": "a933c239",
   "metadata": {},
   "source": [
    "<h4> 3. Lift </h4>"
   ]
  },
  {
   "cell_type": "markdown",
   "id": "dc2bfde0",
   "metadata": {},
   "source": [
    "It is the strength of any rule, which can be defined as below formula:\n",
    "\n",
    "<img src='lift.png'>"
   ]
  },
  {
   "cell_type": "markdown",
   "id": "92caadf2",
   "metadata": {},
   "source": [
    "It is the ratio of the observed support measure and expected support if X and Y are independent of each other. It has three possible values:\n",
    "\n",
    "- If Lift= 1: The probability of occurrence of antecedent and consequent is independent of each other.\n",
    "- Lift>1: It determines the degree to which the two itemsets are dependent to each other.\n",
    "- Lift<1: It tells us that one item is a substitute for other items, which means one item has a negative effect on another."
   ]
  },
  {
   "cell_type": "markdown",
   "id": "928dae5d",
   "metadata": {},
   "source": [
    "<h3 > Types of Association Rule Lerning </h4>"
   ]
  },
  {
   "cell_type": "markdown",
   "id": "73bd4912",
   "metadata": {},
   "source": [
    "Association rule learning can be divided into three algorithms:\n",
    "\n",
    "**1. Apriori Algorithm:**\n",
    "This algorithm uses frequent datasets to generate association rules. It is designed to work on the databases that contain transactions. This algorithm uses a breadth-first search and Hash Tree to calculate the itemset efficiently.It is mainly used for market basket analysis and helps to understand the products that can be bought together. It can also be used in the healthcare field to find drug reactions for patients.\n",
    "\n",
    "**2. Eclat Algorithm:**\n",
    "Eclat algorithm stands for Equivalence Class Transformation. This algorithm uses a depth-first search technique to find frequent itemsets in a transaction database. It performs faster execution than Apriori Algorithm.\n",
    "\n",
    "**3. F-P Growth Algorithm:**\n",
    "The F-P growth algorithm stands for Frequent Pattern, and it is the improved version of the Apriori Algorithm. It represents the database in the form of a tree structure that is known as a frequent pattern or tree. The purpose of this frequent tree is to extract the most frequent patterns."
   ]
  },
  {
   "cell_type": "markdown",
   "id": "73f3c7df",
   "metadata": {},
   "source": [
    "<h3> Applications of Association Rule Learning</h3>"
   ]
  },
  {
   "cell_type": "markdown",
   "id": "f8cf20ef",
   "metadata": {},
   "source": [
    "It has various applications in machine learning and data mining. Below are some popular applications of association rule learning:\n",
    "\n",
    "**1. Market Basket Analysis:** It is one of the popular examples and applications of association rule mining. This technique is commonly used by big retailers to determine the association between items.\n",
    "\n",
    "**2. Medical Diagnosis:** With the help of association rules, patients can be cured easily, as it helps in identifying the probability of illness for a particular disease.\n",
    "\n",
    "**3. Protein Sequence:** The association rules help in determining the synthesis of artificial Proteins.\n",
    "It is also used for the Catalog Design and Loss-leader Analysis and many more other applications."
   ]
  },
  {
   "cell_type": "code",
   "execution_count": null,
   "id": "a978f142",
   "metadata": {},
   "outputs": [],
   "source": []
  }
 ],
 "metadata": {
  "kernelspec": {
   "display_name": "Python 3 (ipykernel)",
   "language": "python",
   "name": "python3"
  },
  "language_info": {
   "codemirror_mode": {
    "name": "ipython",
    "version": 3
   },
   "file_extension": ".py",
   "mimetype": "text/x-python",
   "name": "python",
   "nbconvert_exporter": "python",
   "pygments_lexer": "ipython3",
   "version": "3.9.7"
  }
 },
 "nbformat": 4,
 "nbformat_minor": 5
}
