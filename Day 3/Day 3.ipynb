{
 "cells": [
  {
   "cell_type": "markdown",
   "id": "832fd967",
   "metadata": {},
   "source": [
    "# <h1 style=\"text-align:center;\">Machine Learning</h1>\n"
   ]
  },
  {
   "cell_type": "markdown",
   "id": "54faa3e3",
   "metadata": {},
   "source": [
    "<h2> Supervised Algorithm : </h2>"
   ]
  },
  {
   "cell_type": "markdown",
   "id": "95de6dd6",
   "metadata": {},
   "source": [
    "\n",
    "1. **Supervised Learning Definition:** Supervised learning is a type of machine learning in which machines are trained using labeled training data. This labeled data includes input samples with their corresponding correct output values.\n",
    "\n",
    "\n",
    "2. **Supervision Analogy:** Think of supervised learning as a student learning under the guidance of a teacher. The teacher (training data) supervises the learning process, helping the machine predict outputs accurately.\n",
    "\n",
    "\n",
    "3. **Objective:** The primary goal of supervised learning is to establish a mapping function that relates input variables (x) to the corresponding output variables (y).\n",
    "\n",
    "\n",
    "4. **Real-World Applications:** Supervised learning finds extensive use in various real-world scenarios, including risk assessment, image classification, fraud detection, and spam filtering.\n",
    "\n"
   ]
  },
  {
   "cell_type": "markdown",
   "id": "7ea6aa6d",
   "metadata": {},
   "source": [
    "<h2>How Supervised Learning Works? </h2>"
   ]
  },
  {
   "cell_type": "markdown",
   "id": "8997e25c",
   "metadata": {},
   "source": [
    "<img src=\"supervised.png\" alt=\"Working of Supervised Algorithm\" width=\"100000\">\n"
   ]
  },
  {
   "cell_type": "markdown",
   "id": "2da1c5f4",
   "metadata": {},
   "source": [
    "\n",
    "**Supervised Learning Process:**\n",
    "\n",
    "1. **Training Data:** In supervised learning, models are trained using a labeled dataset. Each data point includes input data and its corresponding correct output (label).\n",
    "\n",
    "\n",
    "2. **Training and Testing:** The model is trained to learn patterns from the labeled data. Once the training process is completed, it's tested using a separate test dataset (a subset of the training set) to evaluate its performance.\n",
    "\n",
    "\n",
    "3. **Example - Shape Classification:**\n",
    "   - If the model is being trained for shape classification, you might have shapes like squares, rectangles, triangles, and hexagons.\n",
    "   - The model is trained to recognize these shapes based on specific characteristics.\n",
    "   - For instance, squares have four equal sides, rectangles have four sides but not necessarily equal, triangles have three sides, and hexagons have six equal sides.\n",
    "   - The training data is labeled accordingly.\n",
    "\n",
    "\n",
    "4. **Model's Task:** After training, the model's task is to identify the shape of new, unseen examples. It does this by analyzing the number of sides and predicting the output label (e.g., \"square,\" \"triangle,\" etc.).\n",
    "\n",
    "\n",
    "**Steps Involved in Supervised Learning:**\n",
    "\n",
    "\n",
    "1. **Determine Dataset Type:** Identify the type of dataset you're working with and what you want to predict (the output).\n",
    "\n",
    "\n",
    "2. **Data Collection:** Gather labeled training data that includes examples of input data and their corresponding output labels.\n",
    "\n",
    "\n",
    "3. **Data Split:** Split your dataset into three parts: training data, test data, and optionally, validation data.\n",
    "\n",
    "\n",
    "4. **Input Features:** Determine the input features from your training data that are necessary for the model to make accurate predictions. In your example, the number of sides is a crucial feature.\n",
    "\n",
    "\n",
    "5. **Algorithm Selection:** Choose an appropriate machine learning algorithm (e.g., Support Vector Machine, Decision Tree) for your specific task.\n",
    "\n",
    "\n",
    "6. **Model Training:** Train the selected algorithm on the training data, adjusting parameters as needed. Validation sets can help fine-tune parameters.\n",
    "\n",
    "\n",
    "7. **Accuracy Evaluation:** Evaluate the model's accuracy by providing the test dataset. If the model correctly predicts the output, it's considered accurate.\n",
    "\n"
   ]
  },
  {
   "cell_type": "markdown",
   "id": "6610432c",
   "metadata": {},
   "source": [
    "<h2> Types of Supervised Algorithm:</h2>"
   ]
  },
  {
   "cell_type": "markdown",
   "id": "b307ddbe",
   "metadata": {},
   "source": [
    "\n",
    "**1. Regression:**\n",
    "\n",
    "- **Use Case:** Regression is used to predict continuous variables when there is a relationship between the input and output variables. Examples include weather forecasting and market trends.\n",
    "\n",
    "\n",
    "- **Regression Algorithms:** Common regression algorithms include Linear Regression, Regression Trees, Non-Linear Regression, Bayesian Linear Regression, and Polynomial Regression.\n",
    "\n",
    "\n",
    "**2. Classification:**\n",
    "\n",
    "- **Use Case:** Classification is applied when the output variable is categorical, typically involving two classes (e.g., Yes-No, Male-Female). It is used in applications like spam filtering.\n",
    "\n",
    "\n",
    "- **Classification Algorithms:** Popular classification algorithms include Random Forest, Decision Trees, Logistic Regression, and Support Vector Machines.\n",
    "\n",
    "\n",
    "**Advantages of Supervised Learning:**\n",
    "\n",
    "- Supervised learning allows models to make predictions based on past experiences and labeled data.\n",
    "- It provides a precise understanding of object classes.\n",
    "- It is applicable to various real-world problems like fraud detection and spam filtering.\n",
    "\n",
    "\n",
    "**Disadvantages of Supervised Learning:**\n",
    "\n",
    "- May not handle complex tasks efficiently.\n",
    "- The model may struggle to predict accurately if the test data significantly differs from the training dataset.\n",
    "- Training supervised models can be computationally intensive.\n",
    "- Sufficient knowledge about object classes is necessary.\n",
    "\n"
   ]
  },
  {
   "cell_type": "code",
   "execution_count": null,
   "id": "b147b707",
   "metadata": {},
   "outputs": [],
   "source": []
  }
 ],
 "metadata": {
  "kernelspec": {
   "display_name": "Python 3 (ipykernel)",
   "language": "python",
   "name": "python3"
  },
  "language_info": {
   "codemirror_mode": {
    "name": "ipython",
    "version": 3
   },
   "file_extension": ".py",
   "mimetype": "text/x-python",
   "name": "python",
   "nbconvert_exporter": "python",
   "pygments_lexer": "ipython3",
   "version": "3.9.7"
  }
 },
 "nbformat": 4,
 "nbformat_minor": 5
}
