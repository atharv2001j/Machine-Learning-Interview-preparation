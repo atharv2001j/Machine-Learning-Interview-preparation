{
 "cells": [
  {
   "cell_type": "markdown",
   "id": "a55c5244",
   "metadata": {},
   "source": [
    "# <h1 style=\"text-align:center;\">Machine Learning</h1>\n"
   ]
  },
  {
   "cell_type": "markdown",
   "id": "7b7dc62d",
   "metadata": {},
   "source": [
    "<h2> Polynomial Regression</h2>"
   ]
  },
  {
   "cell_type": "markdown",
   "id": "2d1404a6",
   "metadata": {},
   "source": [
    "\n",
    "1. **Polynomial Regression Equation:**  The Polynomial Regression equation, which includes polynomial terms for the independent variable `x` up to the nth degree. This allows the model to capture non-linear relationships between the independent and dependent variables. The equation is typically written as:\n",
    "\n",
    "    ```\n",
    "    y = b0 + b1 * x + b2 * x^2 + b3 * x^3 + ... + bn * x^n\n",
    "    ```\n",
    "\n",
    "\n",
    "2. **Extension of Linear Regression:** Polynomial Regression is indeed an extension of Multiple Linear Regression. In Multiple Linear Regression, the model includes multiple independent variables, while in Polynomial Regression, the model introduces polynomial features of the original independent variable to capture non-linear patterns.\n",
    "\n",
    "\n",
    "3. **Non-Linear Datasets:** Polynomial Regression is particularly useful when dealing with datasets that exhibit non-linear relationships between the independent and dependent variables. It allows you to model these complex relationships more accurately than traditional linear regression.\n",
    "\n",
    "\n",
    "4. **Accuracy vs. Complexity:** Polynomial Regression increases model accuracy but also introduces complexity. The degree of the polynomial (n) determines the model's flexibility and can be adjusted to balance between model accuracy and overfitting.\n",
    "\n",
    "\n",
    "5. **Feature Transformation:** In Polynomial Regression, the original features are transformed into polynomial features by raising them to various powers (e.g., x^2, x^3, etc.). These transformed features are then used in a linear model. This transformation enables the model to capture non-linear relationships.\n",
    "\n",
    "\n",
    "6. **Overfitting Consideration:** It's important to be cautious with the degree of the polynomial. A high-degree polynomial can lead to overfitting, which results in a model that fits the training data extremely well but generalizes poorly to new data.\n",
    "\n",
    "\n",
    "7. **Model Evaluation:** When using Polynomial Regression, it's essential to evaluate the model's performance through techniques like cross-validation, using metrics such as mean squared error (MSE), R-squared, or others to ensure it generalizes well to unseen data.\n",
    "\n",
    "In summary, Polynomial Regression is a powerful tool for modeling non-linear relationships in datasets. However, it should be used judiciously, considering the degree of the polynomial, to balance model accuracy and complexity."
   ]
  },
  {
   "cell_type": "markdown",
   "id": "eabed9e2",
   "metadata": {},
   "source": [
    "<h3> Need of Polynomial Regression: </h3>"
   ]
  },
  {
   "cell_type": "markdown",
   "id": "062c2bee",
   "metadata": {},
   "source": [
    "\n",
    "1. **Linear vs. Non-Linear Data:** When dealing with a dataset where the relationship between the independent and dependent variables is linear, a linear regression model (Simple Linear Regression) can provide good results. However, if the dataset exhibits a non-linear relationship, applying a linear model without modification will yield poor results.\n",
    "\n",
    "\n",
    "2. **Impact on Loss Function:** The application of a linear model to non-linear data leads to a mismatch between the model and the data. As a result, the loss function (typically, the mean squared error) increases, and the model's error rate is high. The accuracy of predictions decreases.\n",
    "\n",
    "\n",
    "3. **Polynomial Regression Solution:** To handle datasets arranged in a non-linear fashion, Polynomial Regression is a suitable solution. In Polynomial Regression, the model is adjusted to fit the non-linear patterns in the data by introducing polynomial features, which allows it to capture complex relationships.\n",
    "\n",
    "\n",
    "4. **Visual Comparison:** Your comparison diagram effectively illustrates the difference between linear and non-linear datasets. In the diagram, the linear model struggles to cover data points in the non-linear dataset, while the Polynomial model (a curve) fits most of the data points accurately.\n",
    "\n",
    "<img src=\"polunomial.png\" alt=\"Working of Machine Learning\" width=\"500\">\n",
    "\n",
    "\n",
    "5. **Choosing the Right Model:** The choice between Simple Linear Regression and Polynomial Regression depends on the nature of the data. If the data exhibits non-linear patterns, Polynomial Regression is a better choice, as it allows the model to adapt to the data's complexity.\n",
    "\n",
    "\n",
    "In summary, Polynomial Regression is a valuable technique in situations where linear models are insufficient to model the relationship between variables, especially when dealing with non-linear datasets. It helps improve the model's accuracy and reduces the error rate by accommodating non-linear patterns in the data."
   ]
  },
  {
   "cell_type": "markdown",
   "id": "5719da23",
   "metadata": {},
   "source": [
    "<h3> Equation of the Polynomial Regression Model:</h3>"
   ]
  },
  {
   "cell_type": "markdown",
   "id": "8a44380d",
   "metadata": {},
   "source": [
    "\n",
    "\n",
    "1. **Simple Linear Regression Equation:** This equation models a linear relationship between a dependent variable (y) and a single independent variable (x).\n",
    "\n",
    "   ```\n",
    "   y = b0 + b1x   .........(a)\n",
    "   ```\n",
    "\n",
    "\n",
    "2. **Multiple Linear Regression Equation:** This equation models a linear relationship between a dependent variable (y) and multiple independent variables (x1, x2, x3, ..., xn).\n",
    "\n",
    "   ```\n",
    "   y = b0 + b1x1 + b2x2 + b3x3 + ... + bnxn   .........(b)\n",
    "   ```\n",
    "\n",
    "\n",
    "3. **Polynomial Regression Equation:** In Polynomial Regression, you can have multiple terms of x raised to different powers, which allows you to capture non-linear relationships. The equation looks like this:\n",
    "\n",
    "   ```\n",
    "   y = b0 + b1x + b2x^2 + b3x^3 + ... + bnx^n   .........(c)\n",
    "   ```\n",
    "\n",
    "In equation (c), you can include as many terms (b2x^2, b3x^3, etc.) as needed to fit the complexity of the relationship between the dependent variable (y) and the independent variable (x). The key feature of Polynomial Regression is the inclusion of these polynomial terms to capture non-linear patterns in the data."
   ]
  },
  {
   "cell_type": "markdown",
   "id": "acaf235b",
   "metadata": {},
   "source": [
    "<h3> Implementation of Polynomial Regression using Python:</h3>"
   ]
  },
  {
   "cell_type": "markdown",
   "id": "35116fb5",
   "metadata": {},
   "source": [
    "**Problem Description:** There is a Human Resource company, which is going to hire a new candidate. The candidate has told his previous salary 160K per annum, and the HR have to check whether he is telling the truth or bluff. So to identify this, they only have a dataset of his previous company in which the salaries of the top 10 positions are mentioned with their levels. By checking the dataset available, we have found that there is a non-linear relationship between the Position levels and the salaries. Our goal is to build a Bluffing detector regression model, so HR can hire an honest candidate. Below are the steps to build such a model.\n",
    "\n"
   ]
  },
  {
   "cell_type": "markdown",
   "id": "435dfffa",
   "metadata": {},
   "source": [
    "<h3> Steps for Polynomial Regression: </h3>"
   ]
  },
  {
   "cell_type": "markdown",
   "id": "a632f41b",
   "metadata": {},
   "source": [
    "The main steps involved in Polynomial Regression are given below:\n",
    "\n",
    "1. Data Pre-processing\n",
    "2. Build a Linear Regression model and fit it to the dataset\n",
    "3. Build a Polynomial Regression model and fit it to the dataset\n",
    "4. Visualize the result for Linear Regression and Polynomial Regression model.\n",
    "5. Predicting the output."
   ]
  },
  {
   "cell_type": "markdown",
   "id": "0231aaf0",
   "metadata": {},
   "source": [
    "<h4> Step 1: Data Preprocessing : </h4>"
   ]
  },
  {
   "cell_type": "markdown",
   "id": "80cdad53",
   "metadata": {},
   "source": [
    "In the Polynomial Regression model, we will not use feature scaling, and also we will not split our dataset into training and test set. It has two reasons:\n",
    "\n",
    "1. The dataset contains very less information which is not suitable to divide it into a test and training set, else our model will not be able to find the correlations between the salaries and levels.\n",
    "\n",
    "2. In this model, we want very accurate predictions for salary, so the model should have enough information."
   ]
  },
  {
   "cell_type": "code",
   "execution_count": 5,
   "id": "fccc22a0",
   "metadata": {},
   "outputs": [],
   "source": [
    "# importing libraries  \n",
    "import numpy as nm  \n",
    "import matplotlib.pyplot as plt \n",
    "import pandas as pd  \n",
    "  \n",
    "#importing datasets  \n",
    "data_set= pd.read_csv('Position_Salaries.csv')  \n",
    "  \n",
    "#Extracting Independent and dependent Variable  \n",
    "x= data_set.iloc[:, 1:2].values  \n",
    "y= data_set.iloc[:, 2].values  "
   ]
  },
  {
   "cell_type": "code",
   "execution_count": 2,
   "id": "3c7f2557",
   "metadata": {},
   "outputs": [
    {
     "data": {
      "text/html": [
       "<div>\n",
       "<style scoped>\n",
       "    .dataframe tbody tr th:only-of-type {\n",
       "        vertical-align: middle;\n",
       "    }\n",
       "\n",
       "    .dataframe tbody tr th {\n",
       "        vertical-align: top;\n",
       "    }\n",
       "\n",
       "    .dataframe thead th {\n",
       "        text-align: right;\n",
       "    }\n",
       "</style>\n",
       "<table border=\"1\" class=\"dataframe\">\n",
       "  <thead>\n",
       "    <tr style=\"text-align: right;\">\n",
       "      <th></th>\n",
       "      <th>Position</th>\n",
       "      <th>Level</th>\n",
       "      <th>Salary</th>\n",
       "    </tr>\n",
       "  </thead>\n",
       "  <tbody>\n",
       "    <tr>\n",
       "      <th>0</th>\n",
       "      <td>Business Analyst</td>\n",
       "      <td>1</td>\n",
       "      <td>45000</td>\n",
       "    </tr>\n",
       "    <tr>\n",
       "      <th>1</th>\n",
       "      <td>Junior Consultant</td>\n",
       "      <td>2</td>\n",
       "      <td>50000</td>\n",
       "    </tr>\n",
       "    <tr>\n",
       "      <th>2</th>\n",
       "      <td>Senior Consultant</td>\n",
       "      <td>3</td>\n",
       "      <td>60000</td>\n",
       "    </tr>\n",
       "    <tr>\n",
       "      <th>3</th>\n",
       "      <td>Manager</td>\n",
       "      <td>4</td>\n",
       "      <td>80000</td>\n",
       "    </tr>\n",
       "    <tr>\n",
       "      <th>4</th>\n",
       "      <td>Country Manager</td>\n",
       "      <td>5</td>\n",
       "      <td>110000</td>\n",
       "    </tr>\n",
       "    <tr>\n",
       "      <th>5</th>\n",
       "      <td>Region Manager</td>\n",
       "      <td>6</td>\n",
       "      <td>150000</td>\n",
       "    </tr>\n",
       "    <tr>\n",
       "      <th>6</th>\n",
       "      <td>Partner</td>\n",
       "      <td>7</td>\n",
       "      <td>200000</td>\n",
       "    </tr>\n",
       "    <tr>\n",
       "      <th>7</th>\n",
       "      <td>Senior Partner</td>\n",
       "      <td>8</td>\n",
       "      <td>300000</td>\n",
       "    </tr>\n",
       "    <tr>\n",
       "      <th>8</th>\n",
       "      <td>C-level</td>\n",
       "      <td>9</td>\n",
       "      <td>500000</td>\n",
       "    </tr>\n",
       "    <tr>\n",
       "      <th>9</th>\n",
       "      <td>CEO</td>\n",
       "      <td>10</td>\n",
       "      <td>1000000</td>\n",
       "    </tr>\n",
       "  </tbody>\n",
       "</table>\n",
       "</div>"
      ],
      "text/plain": [
       "            Position  Level   Salary\n",
       "0   Business Analyst      1    45000\n",
       "1  Junior Consultant      2    50000\n",
       "2  Senior Consultant      3    60000\n",
       "3            Manager      4    80000\n",
       "4    Country Manager      5   110000\n",
       "5     Region Manager      6   150000\n",
       "6            Partner      7   200000\n",
       "7     Senior Partner      8   300000\n",
       "8            C-level      9   500000\n",
       "9                CEO     10  1000000"
      ]
     },
     "execution_count": 2,
     "metadata": {},
     "output_type": "execute_result"
    }
   ],
   "source": [
    "data_set"
   ]
  },
  {
   "cell_type": "markdown",
   "id": "f9a60aa0",
   "metadata": {},
   "source": [
    "As we can see in the above output, there are three columns present (Positions, Levels, and Salaries). But we are only considering two columns because Positions are equivalent to the levels or may be seen as the encoded form of Positions.\n",
    "\n",
    "Here we will predict the output for level 6.5 because the candidate has 4+ years' experience as a regional manager, so he must be somewhere between levels 7 and 6."
   ]
  },
  {
   "cell_type": "markdown",
   "id": "1093c9a5",
   "metadata": {},
   "source": [
    "<h4> Step 2: Building the Linear regression model: </h4>"
   ]
  },
  {
   "cell_type": "code",
   "execution_count": 3,
   "id": "3db1832c",
   "metadata": {},
   "outputs": [
    {
     "data": {
      "text/html": [
       "<style>#sk-container-id-1 {color: black;}#sk-container-id-1 pre{padding: 0;}#sk-container-id-1 div.sk-toggleable {background-color: white;}#sk-container-id-1 label.sk-toggleable__label {cursor: pointer;display: block;width: 100%;margin-bottom: 0;padding: 0.3em;box-sizing: border-box;text-align: center;}#sk-container-id-1 label.sk-toggleable__label-arrow:before {content: \"▸\";float: left;margin-right: 0.25em;color: #696969;}#sk-container-id-1 label.sk-toggleable__label-arrow:hover:before {color: black;}#sk-container-id-1 div.sk-estimator:hover label.sk-toggleable__label-arrow:before {color: black;}#sk-container-id-1 div.sk-toggleable__content {max-height: 0;max-width: 0;overflow: hidden;text-align: left;background-color: #f0f8ff;}#sk-container-id-1 div.sk-toggleable__content pre {margin: 0.2em;color: black;border-radius: 0.25em;background-color: #f0f8ff;}#sk-container-id-1 input.sk-toggleable__control:checked~div.sk-toggleable__content {max-height: 200px;max-width: 100%;overflow: auto;}#sk-container-id-1 input.sk-toggleable__control:checked~label.sk-toggleable__label-arrow:before {content: \"▾\";}#sk-container-id-1 div.sk-estimator input.sk-toggleable__control:checked~label.sk-toggleable__label {background-color: #d4ebff;}#sk-container-id-1 div.sk-label input.sk-toggleable__control:checked~label.sk-toggleable__label {background-color: #d4ebff;}#sk-container-id-1 input.sk-hidden--visually {border: 0;clip: rect(1px 1px 1px 1px);clip: rect(1px, 1px, 1px, 1px);height: 1px;margin: -1px;overflow: hidden;padding: 0;position: absolute;width: 1px;}#sk-container-id-1 div.sk-estimator {font-family: monospace;background-color: #f0f8ff;border: 1px dotted black;border-radius: 0.25em;box-sizing: border-box;margin-bottom: 0.5em;}#sk-container-id-1 div.sk-estimator:hover {background-color: #d4ebff;}#sk-container-id-1 div.sk-parallel-item::after {content: \"\";width: 100%;border-bottom: 1px solid gray;flex-grow: 1;}#sk-container-id-1 div.sk-label:hover label.sk-toggleable__label {background-color: #d4ebff;}#sk-container-id-1 div.sk-serial::before {content: \"\";position: absolute;border-left: 1px solid gray;box-sizing: border-box;top: 0;bottom: 0;left: 50%;z-index: 0;}#sk-container-id-1 div.sk-serial {display: flex;flex-direction: column;align-items: center;background-color: white;padding-right: 0.2em;padding-left: 0.2em;position: relative;}#sk-container-id-1 div.sk-item {position: relative;z-index: 1;}#sk-container-id-1 div.sk-parallel {display: flex;align-items: stretch;justify-content: center;background-color: white;position: relative;}#sk-container-id-1 div.sk-item::before, #sk-container-id-1 div.sk-parallel-item::before {content: \"\";position: absolute;border-left: 1px solid gray;box-sizing: border-box;top: 0;bottom: 0;left: 50%;z-index: -1;}#sk-container-id-1 div.sk-parallel-item {display: flex;flex-direction: column;z-index: 1;position: relative;background-color: white;}#sk-container-id-1 div.sk-parallel-item:first-child::after {align-self: flex-end;width: 50%;}#sk-container-id-1 div.sk-parallel-item:last-child::after {align-self: flex-start;width: 50%;}#sk-container-id-1 div.sk-parallel-item:only-child::after {width: 0;}#sk-container-id-1 div.sk-dashed-wrapped {border: 1px dashed gray;margin: 0 0.4em 0.5em 0.4em;box-sizing: border-box;padding-bottom: 0.4em;background-color: white;}#sk-container-id-1 div.sk-label label {font-family: monospace;font-weight: bold;display: inline-block;line-height: 1.2em;}#sk-container-id-1 div.sk-label-container {text-align: center;}#sk-container-id-1 div.sk-container {/* jupyter's `normalize.less` sets `[hidden] { display: none; }` but bootstrap.min.css set `[hidden] { display: none !important; }` so we also need the `!important` here to be able to override the default hidden behavior on the sphinx rendered scikit-learn.org. See: https://github.com/scikit-learn/scikit-learn/issues/21755 */display: inline-block !important;position: relative;}#sk-container-id-1 div.sk-text-repr-fallback {display: none;}</style><div id=\"sk-container-id-1\" class=\"sk-top-container\"><div class=\"sk-text-repr-fallback\"><pre>LinearRegression()</pre><b>In a Jupyter environment, please rerun this cell to show the HTML representation or trust the notebook. <br />On GitHub, the HTML representation is unable to render, please try loading this page with nbviewer.org.</b></div><div class=\"sk-container\" hidden><div class=\"sk-item\"><div class=\"sk-estimator sk-toggleable\"><input class=\"sk-toggleable__control sk-hidden--visually\" id=\"sk-estimator-id-1\" type=\"checkbox\" checked><label for=\"sk-estimator-id-1\" class=\"sk-toggleable__label sk-toggleable__label-arrow\">LinearRegression</label><div class=\"sk-toggleable__content\"><pre>LinearRegression()</pre></div></div></div></div></div>"
      ],
      "text/plain": [
       "LinearRegression()"
      ]
     },
     "execution_count": 3,
     "metadata": {},
     "output_type": "execute_result"
    }
   ],
   "source": [
    "#Fitting the Linear Regression to the dataset  \n",
    "from sklearn.linear_model import LinearRegression  \n",
    "lin_regs= LinearRegression()  \n",
    "lin_regs.fit(x,y)  "
   ]
  },
  {
   "cell_type": "markdown",
   "id": "f14da569",
   "metadata": {},
   "source": [
    "<h4> Step 3: Building the Polynomial regression model:</h4>"
   ]
  },
  {
   "cell_type": "markdown",
   "id": "5f5b39a1",
   "metadata": {},
   "source": [
    "Now we will build the Polynomial Regression model, but it will be a little different from the Simple Linear model. Because here we will use PolynomialFeatures class of preprocessing library. We are using this class to add some extra features to our dataset."
   ]
  },
  {
   "cell_type": "code",
   "execution_count": 4,
   "id": "3fca5a26",
   "metadata": {},
   "outputs": [
    {
     "data": {
      "text/html": [
       "<style>#sk-container-id-2 {color: black;}#sk-container-id-2 pre{padding: 0;}#sk-container-id-2 div.sk-toggleable {background-color: white;}#sk-container-id-2 label.sk-toggleable__label {cursor: pointer;display: block;width: 100%;margin-bottom: 0;padding: 0.3em;box-sizing: border-box;text-align: center;}#sk-container-id-2 label.sk-toggleable__label-arrow:before {content: \"▸\";float: left;margin-right: 0.25em;color: #696969;}#sk-container-id-2 label.sk-toggleable__label-arrow:hover:before {color: black;}#sk-container-id-2 div.sk-estimator:hover label.sk-toggleable__label-arrow:before {color: black;}#sk-container-id-2 div.sk-toggleable__content {max-height: 0;max-width: 0;overflow: hidden;text-align: left;background-color: #f0f8ff;}#sk-container-id-2 div.sk-toggleable__content pre {margin: 0.2em;color: black;border-radius: 0.25em;background-color: #f0f8ff;}#sk-container-id-2 input.sk-toggleable__control:checked~div.sk-toggleable__content {max-height: 200px;max-width: 100%;overflow: auto;}#sk-container-id-2 input.sk-toggleable__control:checked~label.sk-toggleable__label-arrow:before {content: \"▾\";}#sk-container-id-2 div.sk-estimator input.sk-toggleable__control:checked~label.sk-toggleable__label {background-color: #d4ebff;}#sk-container-id-2 div.sk-label input.sk-toggleable__control:checked~label.sk-toggleable__label {background-color: #d4ebff;}#sk-container-id-2 input.sk-hidden--visually {border: 0;clip: rect(1px 1px 1px 1px);clip: rect(1px, 1px, 1px, 1px);height: 1px;margin: -1px;overflow: hidden;padding: 0;position: absolute;width: 1px;}#sk-container-id-2 div.sk-estimator {font-family: monospace;background-color: #f0f8ff;border: 1px dotted black;border-radius: 0.25em;box-sizing: border-box;margin-bottom: 0.5em;}#sk-container-id-2 div.sk-estimator:hover {background-color: #d4ebff;}#sk-container-id-2 div.sk-parallel-item::after {content: \"\";width: 100%;border-bottom: 1px solid gray;flex-grow: 1;}#sk-container-id-2 div.sk-label:hover label.sk-toggleable__label {background-color: #d4ebff;}#sk-container-id-2 div.sk-serial::before {content: \"\";position: absolute;border-left: 1px solid gray;box-sizing: border-box;top: 0;bottom: 0;left: 50%;z-index: 0;}#sk-container-id-2 div.sk-serial {display: flex;flex-direction: column;align-items: center;background-color: white;padding-right: 0.2em;padding-left: 0.2em;position: relative;}#sk-container-id-2 div.sk-item {position: relative;z-index: 1;}#sk-container-id-2 div.sk-parallel {display: flex;align-items: stretch;justify-content: center;background-color: white;position: relative;}#sk-container-id-2 div.sk-item::before, #sk-container-id-2 div.sk-parallel-item::before {content: \"\";position: absolute;border-left: 1px solid gray;box-sizing: border-box;top: 0;bottom: 0;left: 50%;z-index: -1;}#sk-container-id-2 div.sk-parallel-item {display: flex;flex-direction: column;z-index: 1;position: relative;background-color: white;}#sk-container-id-2 div.sk-parallel-item:first-child::after {align-self: flex-end;width: 50%;}#sk-container-id-2 div.sk-parallel-item:last-child::after {align-self: flex-start;width: 50%;}#sk-container-id-2 div.sk-parallel-item:only-child::after {width: 0;}#sk-container-id-2 div.sk-dashed-wrapped {border: 1px dashed gray;margin: 0 0.4em 0.5em 0.4em;box-sizing: border-box;padding-bottom: 0.4em;background-color: white;}#sk-container-id-2 div.sk-label label {font-family: monospace;font-weight: bold;display: inline-block;line-height: 1.2em;}#sk-container-id-2 div.sk-label-container {text-align: center;}#sk-container-id-2 div.sk-container {/* jupyter's `normalize.less` sets `[hidden] { display: none; }` but bootstrap.min.css set `[hidden] { display: none !important; }` so we also need the `!important` here to be able to override the default hidden behavior on the sphinx rendered scikit-learn.org. See: https://github.com/scikit-learn/scikit-learn/issues/21755 */display: inline-block !important;position: relative;}#sk-container-id-2 div.sk-text-repr-fallback {display: none;}</style><div id=\"sk-container-id-2\" class=\"sk-top-container\"><div class=\"sk-text-repr-fallback\"><pre>LinearRegression()</pre><b>In a Jupyter environment, please rerun this cell to show the HTML representation or trust the notebook. <br />On GitHub, the HTML representation is unable to render, please try loading this page with nbviewer.org.</b></div><div class=\"sk-container\" hidden><div class=\"sk-item\"><div class=\"sk-estimator sk-toggleable\"><input class=\"sk-toggleable__control sk-hidden--visually\" id=\"sk-estimator-id-2\" type=\"checkbox\" checked><label for=\"sk-estimator-id-2\" class=\"sk-toggleable__label sk-toggleable__label-arrow\">LinearRegression</label><div class=\"sk-toggleable__content\"><pre>LinearRegression()</pre></div></div></div></div></div>"
      ],
      "text/plain": [
       "LinearRegression()"
      ]
     },
     "execution_count": 4,
     "metadata": {},
     "output_type": "execute_result"
    }
   ],
   "source": [
    "#Fitting the Polynomial regression to the dataset  \n",
    "from sklearn.preprocessing import PolynomialFeatures  \n",
    "poly_regs= PolynomialFeatures(degree= 2)  \n",
    "x_poly= poly_regs.fit_transform(x)  \n",
    "lin_reg_2 =LinearRegression()  \n",
    "lin_reg_2.fit(x_poly, y) "
   ]
  },
  {
   "cell_type": "markdown",
   "id": "ffd1f2f5",
   "metadata": {},
   "source": [
    "In the above lines of code, we have used poly_regs.fit_transform(x), because first we are converting our feature matrix into polynomial feature matrix, and then fitting it to the Polynomial regression model. The parameter value(degree= 2) depends on our choice. We can choose it according to our Polynomial features."
   ]
  },
  {
   "cell_type": "markdown",
   "id": "0b9e3f62",
   "metadata": {},
   "source": [
    "<h4>Step 4: Visualizing the result for Linear regression:</h4>"
   ]
  },
  {
   "cell_type": "code",
   "execution_count": 6,
   "id": "992f3a9d",
   "metadata": {},
   "outputs": [
    {
     "data": {
      "image/png": "[encoded data removed]",
      "text/plain": [
       "<Figure size 432x288 with 1 Axes>"
      ]
     },
     "metadata": {
      "needs_background": "light"
     },
     "output_type": "display_data"
    }
   ],
   "source": [
    "#Visulaizing the result for Linear Regression model  \n",
    "plt.scatter(x,y,color=\"blue\")  \n",
    "plt.plot(x,lin_regs.predict(x), color=\"red\")  \n",
    "plt.title(\"Bluff detection model(Linear Regression)\")  \n",
    "plt.xlabel(\"Position Levels\")  \n",
    "plt.ylabel(\"Salary\")  \n",
    "plt.show() "
   ]
  },
  {
   "cell_type": "markdown",
   "id": "e9d83fce",
   "metadata": {},
   "source": [
    "n the above output image, we can clearly see that the regression line is so far from the datasets. Predictions are in a red straight line, and blue points are actual values. If we consider this output to predict the value of CEO, it will give a salary of approx. 600000$, which is far away from the real value.\n",
    "\n",
    "So we need a curved model to fit the dataset other than a straight line."
   ]
  },
  {
   "cell_type": "markdown",
   "id": "c78a2968",
   "metadata": {},
   "source": [
    "<h4> Step 4:Visualizing the result for Polynomial Regression: </h4>"
   ]
  },
  {
   "cell_type": "code",
   "execution_count": 8,
   "id": "32293f26",
   "metadata": {},
   "outputs": [
    {
     "data": {
      "image/png": "[encoded data removed]",
      "text/plain": [
       "<Figure size 432x288 with 1 Axes>"
      ]
     },
     "metadata": {
      "needs_background": "light"
     },
     "output_type": "display_data"
    }
   ],
   "source": [
    "#Visulaizing the result for Polynomial Regression  \n",
    "plt.scatter(x,y,color=\"blue\")  \n",
    "plt.plot(x, lin_reg_2.predict(x_poly), color=\"red\")  \n",
    "plt.title(\"Bluff detection model(Polynomial Regression)\")  \n",
    "plt.xlabel(\"Position Levels\")  \n",
    "plt.ylabel(\"Salary\")  \n",
    "plt.show()  "
   ]
  },
  {
   "cell_type": "markdown",
   "id": "3bf27f33",
   "metadata": {},
   "source": [
    "As we can see in the above output image, the predictions are close to the real values. The above plot will vary as we will change the degree."
   ]
  },
  {
   "cell_type": "markdown",
   "id": "ede424b6",
   "metadata": {},
   "source": [
    "<h4> Step 5:Predicting the final result with the Linear Regression model:</h4>"
   ]
  },
  {
   "cell_type": "markdown",
   "id": "b482bffa",
   "metadata": {},
   "source": [
    "Now, we will predict the final output using the Linear regression model to see whether an employee is saying truth or bluff. So, for this, we will use the predict() method and will pass the value 6.5. Below is the code for it:"
   ]
  },
  {
   "cell_type": "code",
   "execution_count": 9,
   "id": "4628bd18",
   "metadata": {},
   "outputs": [
    {
     "name": "stdout",
     "output_type": "stream",
     "text": [
      "[330378.78787879]\n"
     ]
    }
   ],
   "source": [
    "lin_pred = lin_regs.predict([[6.5]])  \n",
    "print(lin_pred)  "
   ]
  },
  {
   "cell_type": "markdown",
   "id": "6f86ffed",
   "metadata": {},
   "source": [
    "<h4> Predicting the final result with the Polynomial Regression model:</h4>"
   ]
  },
  {
   "cell_type": "code",
   "execution_count": 11,
   "id": "fcfde194",
   "metadata": {},
   "outputs": [
    {
     "name": "stdout",
     "output_type": "stream",
     "text": [
      "[189498.10606061]\n"
     ]
    }
   ],
   "source": [
    "poly_pred = lin_reg_2.predict(poly_regs.fit_transform([[6.5]]))  \n",
    "print(poly_pred)  "
   ]
  },
  {
   "cell_type": "markdown",
   "id": "5069f0b8",
   "metadata": {},
   "source": [
    "As we can see, the predicted output for the Polynomial Regression is [189498.10606061], which is much closer to real value hence, we can say that future employee is saying true"
   ]
  }
 ],
 "metadata": {
  "kernelspec": {
   "display_name": "Python 3 (ipykernel)",
   "language": "python",
   "name": "python3"
  },
  "language_info": {
   "codemirror_mode": {
    "name": "ipython",
    "version": 3
   },
   "file_extension": ".py",
   "mimetype": "text/x-python",
   "name": "python",
   "nbconvert_exporter": "python",
   "pygments_lexer": "ipython3",
   "version": "3.9.7"
  }
 },
 "nbformat": 4,
 "nbformat_minor": 5
}
