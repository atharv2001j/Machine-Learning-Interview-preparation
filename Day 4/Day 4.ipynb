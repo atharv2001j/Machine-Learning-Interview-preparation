{
 "cells": [
  {
   "cell_type": "markdown",
   "id": "2e52de2a",
   "metadata": {},
   "source": [
    "# <h1 style=\"text-align:center;\">Machine Learning</h1>\n"
   ]
  },
  {
   "cell_type": "markdown",
   "id": "b61046fe",
   "metadata": {},
   "source": [
    "<h2> Unsupervised Learning algorithm</h1>"
   ]
  },
  {
   "cell_type": "markdown",
   "id": "db269f1c",
   "metadata": {},
   "source": [
    "\n",
    "1. **Useful Insights from Data:** Unsupervised learning helps uncover hidden patterns and structures in data, which can provide valuable insights, even when we don't have specific output labels.\n",
    "\n",
    "\n",
    "2. **Closeness to Human Learning:** Unsupervised learning is akin to how humans learn from their experiences and observations, making it a step closer to achieving real artificial intelligence.\n",
    "\n",
    "\n",
    "3. **Works with Unlabeled Data:** Unsupervised learning can handle data that is not labeled or categorized, making it applicable in situations where we lack predefined categories or target values.\n",
    "\n",
    "\n",
    "4. **Solves Real-World Problems:** In many real-world scenarios, we often have input data but lack corresponding output data. Unsupervised learning is a valuable tool for addressing these cases by discovering the inherent structure within the data.\n",
    "\n",
    "\n",
    "In summary, unsupervised learning is important for extracting insights from data, mimicking human learning, handling unlabeled data, and solving real-world problems where labeled data is not readily available."
   ]
  },
  {
   "cell_type": "markdown",
   "id": "befd5df4",
   "metadata": {},
   "source": [
    "<h3>Working of Unsupervised algorithm </h3>"
   ]
  },
  {
   "cell_type": "markdown",
   "id": "2ca8885e",
   "metadata": {},
   "source": [
    "<img src=\"woorking.png\">\n",
    "\n"
   ]
  },
  {
   "cell_type": "markdown",
   "id": "8d943d5d",
   "metadata": {},
   "source": [
    "Here, we have taken an unlabeled input data, which means it is not categorized and corresponding outputs are also not given. Now, this unlabeled input data is fed to the machine learning model in order to train it. Firstly, it will interpret the raw data to find the hidden patterns from the data and then will apply suitable algorithms such as k-means clustering, Decision tree, etc.\n",
    "\n",
    "Once it applies the suitable algorithm, the algorithm divides the data objects into groups according to the similarities and difference between the objects."
   ]
  },
  {
   "cell_type": "markdown",
   "id": "136bb819",
   "metadata": {},
   "source": [
    "<h3> Types of Unsupervised Algorithm </h3>"
   ]
  },
  {
   "cell_type": "markdown",
   "id": "98ce0d10",
   "metadata": {},
   "source": [
    "\n",
    "**Clustering:**\n",
    "- Clustering is a technique used in unsupervised learning to group objects (data points) into clusters based on their similarities.\n",
    "- The goal is to ensure that objects within a cluster are more similar to each other than to those in other clusters.\n",
    "- Cluster analysis helps identify commonalities and patterns within data, allowing for data segmentation and grouping.\n",
    "- It is widely used in various domains, including customer segmentation, image processing, and recommendation systems.\n",
    "\n",
    "\n",
    "**Association:**\n",
    "- Association is an unsupervised learning method that aims to discover relationships and associations between variables or items in a large dataset.\n",
    "- It identifies sets of items that frequently co-occur or are associated with each other.\n",
    "- Association rules are often used for market basket analysis, where retailers analyze customer purchase patterns to make marketing and product placement decisions.\n",
    "- A classic example is finding associations like \"people who buy bread often buy butter or jam,\" which can inform cross-selling strategies.\n",
    "\n",
    "\n",
    "In summary, clustering is about grouping similar data points together, while association focuses on identifying patterns and relationships between items in a dataset. Both techniques have practical applications in data analysis, pattern recognition, and decision-making processes."
   ]
  },
  {
   "cell_type": "markdown",
   "id": "da35491c",
   "metadata": {},
   "source": [
    "\n",
    "**Popular Unsupervised Learning Algorithms:**\n",
    "1. **K-means Clustering:** Groups data points into clusters based on similarity.\n",
    "2. **K-nearest Neighbors (KNN):** Classifies data points based on the majority class of their nearest neighbors.\n",
    "3. **Hierarchical Clustering:** Creates a tree-like structure of nested clusters.\n",
    "4. **Anomaly Detection:** Identifies data points that are significantly different from the majority.\n",
    "5. **Neural Networks:** Can be used for various unsupervised tasks, including autoencoders and self-organizing maps.\n",
    "6. **Principal Component Analysis (PCA):** Reduces the dimensionality of data while preserving variance.\n",
    "7. **Independent Component Analysis (ICA):** Separates a multivariate signal into additive, independent components.\n",
    "8. **Apriori Algorithm:** Discovers association rules in transaction data, often used in market basket analysis.\n",
    "9. **Singular Value Decomposition (SVD):** Decomposes a matrix into three other matrices and is used in dimensionality reduction and data compression.\n",
    "\n",
    "    \n",
    "**Advantages of Unsupervised Learning:**\n",
    "1. **Handling Unlabeled Data:** Unsupervised learning is useful when labeled data is scarce or unavailable.\n",
    "2. **Data Exploration:** It allows for exploring and discovering hidden patterns and structures within the data.\n",
    "3. **Flexibility:** Unsupervised learning can be applied to a wide range of tasks, including clustering, dimensionality reduction, and anomaly detection.\n",
    "\n",
    "    \n",
    "**Disadvantages of Unsupervised Learning:**\n",
    "1. **Lack of Ground Truth:** Without labeled data, it's challenging to evaluate and validate the results effectively.\n",
    "2. **Potential for Inaccuracy:** Since there's no ground truth, the accuracy of unsupervised learning outcomes can be subjective or difficult to quantify.\n",
    "3. **Complexity:** Some unsupervised learning algorithms can be computationally intensive and may require careful tuning.\n",
    "\n",
    "    \n",
    "In summary, unsupervised learning is a valuable approach for handling unlabeled data and discovering patterns, but it comes with challenges related to evaluation and potential inaccuracies due to the absence of ground truth labels. It is a powerful tool for various data analysis tasks, especially when labeled data is scarce or when you want to explore the inherent structure within your data."
   ]
  },
  {
   "cell_type": "markdown",
   "id": "2d44e74d",
   "metadata": {},
   "source": [
    "<h3> Supervised VS Unsupervised Algorithm </h3>"
   ]
  },
  {
   "cell_type": "markdown",
   "id": "4f17be56",
   "metadata": {},
   "source": [
    "\n",
    "**Supervised Learning:**\n",
    "\n",
    "1. **Data Type:** Uses labeled data, which means the input data is tagged with the correct output.\n",
    "2. **Feedback:** Gets direct feedback on its predictions to check accuracy.\n",
    "3. **Goal:** Predicts the output for new data based on the learned patterns.\n",
    "4. **Training:** Input data along with corresponding output is provided during training.\n",
    "5. **Categorization:** Can be used for classification and regression problems.\n",
    "6. **Supervision:** Needs supervision during training.\n",
    "7. **Accuracy:** Tends to produce more accurate results compared to unsupervised learning.\n",
    "8. **Examples:** Includes algorithms like Linear Regression, Logistic Regression, Support Vector Machine, and Decision Tree.\n",
    "\n",
    "    \n",
    "**Unsupervised Learning:**\n",
    "\n",
    "1. **Data Type:** Uses unlabeled data, meaning the input data is not tagged with the output.\n",
    "2. **Feedback:** Does not receive any feedback on its predictions.\n",
    "3. **Goal:** Finds hidden patterns and insights within the data.\n",
    "4. **Training:** Only input data is provided during training.\n",
    "5. **Categorization:** Includes clustering and association problems.\n",
    "6. **Supervision:** Doesn't need supervision during training.\n",
    "7. **Accuracy:** May provide less accurate results compared to supervised learning.\n",
    "8. **Examples:** Includes algorithms like Clustering, KNN, and Apriori algorithm.\n",
    "\n",
    "    \n",
    "These simple points should give you a clear understanding of the key differences between supervised and unsupervised learning."
   ]
  },
  {
   "cell_type": "code",
   "execution_count": null,
   "id": "8555eae1",
   "metadata": {},
   "outputs": [],
   "source": []
  }
 ],
 "metadata": {
  "kernelspec": {
   "display_name": "Python 3 (ipykernel)",
   "language": "python",
   "name": "python3"
  },
  "language_info": {
   "codemirror_mode": {
    "name": "ipython",
    "version": 3
   },
   "file_extension": ".py",
   "mimetype": "text/x-python",
   "name": "python",
   "nbconvert_exporter": "python",
   "pygments_lexer": "ipython3",
   "version": "3.9.7"
  }
 },
 "nbformat": 4,
 "nbformat_minor": 5
}
