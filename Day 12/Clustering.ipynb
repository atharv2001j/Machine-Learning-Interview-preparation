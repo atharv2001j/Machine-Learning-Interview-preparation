{
 "cells": [
  {
   "cell_type": "markdown",
   "id": "338f2319",
   "metadata": {},
   "source": [
    "<h3> Clustering : </h3>"
   ]
  },
  {
   "cell_type": "markdown",
   "id": "8a0a6395",
   "metadata": {},
   "source": [
    "Clustering or cluster analysis is a machine learning technique, which groups the unlabelled dataset. It can be defined as **\"A way of grouping the data points into different clusters, consisting of similar data points. The objects with the possible similarities remain in a group that has less or no similarities with another group.\"**"
   ]
  },
  {
   "cell_type": "markdown",
   "id": "5f2f8ca4",
   "metadata": {},
   "source": [
    "It is an unsupervised learning method, hence no supervision is provided to the algorithm, and it deals with the unlabeled dataset."
   ]
  },
  {
   "cell_type": "markdown",
   "id": "b3b13892",
   "metadata": {},
   "source": [
    "**For Example:**  Let's understand the clustering technique with the real-world example of Mall: When we visit any shopping mall, we can observe that the things with similar usage are grouped together. Such as the t-shirts are grouped in one section, and trousers are at other sections, similarly, at vegetable sections, apples, bananas, Mangoes, etc., are grouped in separate sections, so that we can easily find out the things. The clustering technique also works in the same way. Other examples of clustering are grouping documents according to the topic."
   ]
  },
  {
   "cell_type": "markdown",
   "id": "c6f33978",
   "metadata": {},
   "source": [
    "<img src='cluster.png'>"
   ]
  },
  {
   "cell_type": "markdown",
   "id": "a67a7712",
   "metadata": {},
   "source": [
    "<h4> Types of Clustering Methods:</h4>"
   ]
  },
  {
   "cell_type": "markdown",
   "id": "401b70e9",
   "metadata": {},
   "source": [
    "The clustering methods are broadly divided into Hard clustering (datapoint belongs to only one group) and Soft Clustering (data points can belong to another group also). But there are also other various approaches of Clustering exist. Below are the main clustering methods used in Machine learning:\n"
   ]
  },
  {
   "cell_type": "markdown",
   "id": "bd21e26b",
   "metadata": {},
   "source": [
    "**1. Partitioning Clustering:**\n",
    "- It is a type of clustering that divides the data into non-hierarchical groups. It is also known as the centroid-based method. The most common example of partitioning clustering is the K-Means Clustering algorithm.\n",
    "\n",
    "**2. Density-Based Clustering:**\n",
    "- he density-based clustering method connects the highly-dense areas into clusters, and the arbitrarily shaped distributions are formed as long as the dense region can be connected. This algorithm does it by identifying different clusters in the dataset and connects the areas of high densities into clusters\n",
    "\n",
    "**3. Distribution Model-Based Clustering:**\n",
    "- In the distribution model-based clustering method, the data is divided based on the probability of how a dataset belongs to a particular distribution. The grouping is done by assuming some distributions commonly Gaussian Distribution.\n",
    "\n",
    "**4. Hierarchical Clustering:**\n",
    "-  In this technique, the dataset is divided into clusters to create a tree-like structure, which is also called a dendrogram. The observations or any number of clusters can be selected by cutting the tree at the correct level. The most common example of this method is the Agglomerative Hierarchical algorithm.\n",
    "\n",
    "**5. Fuzzy Clustering:**\n",
    "- Fuzzy clustering is a type of soft method in which a data object may belong to more than one group or cluster. Each dataset has a set of membership coefficients, which depend on the degree of membership to be in a cluster. \n",
    "\n"
   ]
  },
  {
   "cell_type": "markdown",
   "id": "b1a19921",
   "metadata": {},
   "source": [
    "<h4> Applications of Clustering: </h4>"
   ]
  },
  {
   "cell_type": "markdown",
   "id": "bacf9717",
   "metadata": {},
   "source": [
    "1. Customer Segmentation\n",
    "2. Image Segmentation\n",
    "3. Anomaly Detection\n",
    "4. Document Clustering\n",
    "5. Recommendation Systems\n",
    "6. Genomics and Bioinformatics\n",
    "7. Network Security\n",
    "8. Social Network Analysis\n",
    "9. Retail Inventory Management\n",
    "10. Climate Pattern Analysis\n",
    "11. Fraud Detection\n",
    "12. Speech and Speaker Recognition"
   ]
  }
 ],
 "metadata": {
  "kernelspec": {
   "display_name": "Python 3 (ipykernel)",
   "language": "python",
   "name": "python3"
  },
  "language_info": {
   "codemirror_mode": {
    "name": "ipython",
    "version": 3
   },
   "file_extension": ".py",
   "mimetype": "text/x-python",
   "name": "python",
   "nbconvert_exporter": "python",
   "pygments_lexer": "ipython3",
   "version": "3.9.7"
  }
 },
 "nbformat": 4,
 "nbformat_minor": 5
}
